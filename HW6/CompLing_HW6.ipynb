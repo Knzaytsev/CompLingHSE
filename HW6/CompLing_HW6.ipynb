{
  "cells": [
    {
      "cell_type": "code",
      "execution_count": 1,
      "metadata": {
        "id": "i7KCmKbF9QeX",
        "colab": {
          "base_uri": "https://localhost:8080/"
        },
        "outputId": "488aa975-6d4a-4ab5-9299-237b33e612c9"
      },
      "outputs": [
        {
          "output_type": "stream",
          "name": "stdout",
          "text": [
            "Requirement already satisfied: gensim in /usr/local/lib/python3.7/dist-packages (4.1.2)\n",
            "Requirement already satisfied: smart-open>=1.8.1 in /usr/local/lib/python3.7/dist-packages (from gensim) (5.2.1)\n",
            "Requirement already satisfied: scipy>=0.18.1 in /usr/local/lib/python3.7/dist-packages (from gensim) (1.4.1)\n",
            "Requirement already satisfied: numpy>=1.17.0 in /usr/local/lib/python3.7/dist-packages (from gensim) (1.19.5)\n"
          ]
        }
      ],
      "source": [
        "!pip install gensim --upgrade"
      ]
    },
    {
      "cell_type": "markdown",
      "metadata": {
        "id": "FcDPHsvn1fO4"
      },
      "source": [
        "# Задание 1"
      ]
    },
    {
      "cell_type": "code",
      "execution_count": 1,
      "metadata": {
        "id": "49mm8SdQVosC"
      },
      "outputs": [],
      "source": [
        "import tensorflow as tf\n",
        "import numpy as np\n",
        "import pandas as pd\n",
        "from string import punctuation\n",
        "from sklearn.model_selection import train_test_split\n",
        "from collections import Counter\n",
        "import matplotlib.pyplot as plt\n",
        "from sklearn.decomposition import TruncatedSVD\n",
        "from sklearn.feature_extraction.text import CountVectorizer\n",
        "from sklearn.metrics.pairwise import cosine_distances\n",
        "\n",
        "from IPython.display import Image\n",
        "from IPython.core.display import HTML \n",
        "%matplotlib inline"
      ]
    },
    {
      "cell_type": "code",
      "execution_count": 2,
      "metadata": {
        "id": "zctvUJAUWHH9"
      },
      "outputs": [],
      "source": [
        "wiki = open('wiki_data.txt', encoding='utf-8').read().split('\\n')"
      ]
    },
    {
      "cell_type": "code",
      "execution_count": 3,
      "metadata": {
        "id": "boKji_YQip96"
      },
      "outputs": [],
      "source": [
        "data = pd.read_csv('labeled.csv')"
      ]
    },
    {
      "cell_type": "code",
      "execution_count": 4,
      "metadata": {
        "id": "qksExFJpPscS"
      },
      "outputs": [],
      "source": [
        "all_data = wiki"
      ]
    },
    {
      "cell_type": "code",
      "execution_count": 5,
      "metadata": {
        "id": "EqgEC7uFWJhe"
      },
      "outputs": [],
      "source": [
        "cv = CountVectorizer(max_features=10000)\n",
        "svd = TruncatedSVD(200)\n",
        "\n",
        "X = cv.fit_transform(all_data)\n",
        "X_svd = svd.fit_transform(X)"
      ]
    },
    {
      "cell_type": "code",
      "execution_count": 6,
      "metadata": {
        "id": "LVfAvjz2WMXx"
      },
      "outputs": [],
      "source": [
        "embeddings = svd.components_.T"
      ]
    },
    {
      "cell_type": "code",
      "execution_count": 7,
      "metadata": {
        "id": "jX1j8_qayRXf"
      },
      "outputs": [],
      "source": [
        "from pymystem3 import Mystem\n",
        "m = Mystem()"
      ]
    },
    {
      "cell_type": "code",
      "execution_count": 9,
      "metadata": {
        "colab": {
          "base_uri": "https://localhost:8080/"
        },
        "id": "8NGnI_5dXwQg",
        "outputId": "dea64e54-a4a0-4a34-a86c-64389eeec6bc"
      },
      "outputs": [
        {
          "output_type": "stream",
          "name": "stdout",
          "text": [
            "--2022-01-27 10:19:32--  http://download.cdn.yandex.net/mystem/mystem-3.0-linux3.1-64bit.tar.gz\n",
            "Resolving download.cdn.yandex.net (download.cdn.yandex.net)... 5.45.205.243, 5.45.205.241, 5.45.205.245, ...\n",
            "Connecting to download.cdn.yandex.net (download.cdn.yandex.net)|5.45.205.243|:80... connected.\n",
            "HTTP request sent, awaiting response... 302 Found\n",
            "Location: http://cache-man01i.cdn.yandex.net/download.cdn.yandex.net/mystem/mystem-3.0-linux3.1-64bit.tar.gz [following]\n",
            "--2022-01-27 10:19:33--  http://cache-man01i.cdn.yandex.net/download.cdn.yandex.net/mystem/mystem-3.0-linux3.1-64bit.tar.gz\n",
            "Resolving cache-man01i.cdn.yandex.net (cache-man01i.cdn.yandex.net)... 5.45.205.221, 2a02:6b8::3:221\n",
            "Connecting to cache-man01i.cdn.yandex.net (cache-man01i.cdn.yandex.net)|5.45.205.221|:80... connected.\n",
            "HTTP request sent, awaiting response... 200 OK\n",
            "Length: 16457938 (16M) [application/octet-stream]\n",
            "Saving to: ‘mystem-3.0-linux3.1-64bit.tar.gz.2’\n",
            "\n",
            "mystem-3.0-linux3.1 100%[===================>]  15.70M  8.25MB/s    in 1.9s    \n",
            "\n",
            "2022-01-27 10:19:35 (8.25 MB/s) - ‘mystem-3.0-linux3.1-64bit.tar.gz.2’ saved [16457938/16457938]\n",
            "\n",
            "mystem\n"
          ]
        }
      ],
      "source": [
        "!wget http://download.cdn.yandex.net/mystem/mystem-3.0-linux3.1-64bit.tar.gz\n",
        "!tar -xvf mystem-3.0-linux3.1-64bit.tar.gz\n",
        "!cp mystem /root/.local/bin/mystem"
      ]
    },
    {
      "cell_type": "code",
      "execution_count": 8,
      "metadata": {
        "id": "3H088THV_Tvl"
      },
      "outputs": [],
      "source": [
        "def most_similar(word, embeddings):\n",
        "    similar = [id2word[i] for i in \n",
        "               cosine_distances(embeddings[word2id[word]].reshape(1, -1), embeddings).argsort()[0][:10]]\n",
        "    return similar"
      ]
    },
    {
      "cell_type": "code",
      "execution_count": 9,
      "metadata": {
        "id": "vtnXSiE5a8l3"
      },
      "outputs": [],
      "source": [
        "def preprocess(text):\n",
        "    tokens = []\n",
        "\n",
        "    text = text.strip(punctuation)\n",
        "    words = m.analyze(text)\n",
        "\n",
        "    for word in words:\n",
        "      if 'analysis' not in word:\n",
        "        continue\n",
        "      \n",
        "\n",
        "\n",
        "      #print(word)\n",
        "      lemma = word[\"text\"] if not word[\"analysis\"] else word[\"analysis\"][0][\"lex\"]\n",
        "      tokens.append(lemma.lower().strip())\n",
        "    return tokens"
      ]
    },
    {
      "cell_type": "code",
      "execution_count": 10,
      "metadata": {
        "id": "pVtOO5_RhGR7"
      },
      "outputs": [],
      "source": [
        "from tqdm import tqdm"
      ]
    },
    {
      "cell_type": "code",
      "execution_count": 11,
      "metadata": {
        "id": "eKIxCptrMErN"
      },
      "outputs": [],
      "source": [
        "def preprocess_data(data, filter=30):\n",
        "  vocab = Counter()\n",
        "\n",
        "  for text in data:\n",
        "      vocab.update(preprocess(text))\n",
        "      \n",
        "  filtered_vocab = set()\n",
        "\n",
        "  for word in vocab:\n",
        "      if vocab[word] > filter:\n",
        "          filtered_vocab.add(word)\n",
        "\n",
        "  word2id = { 'PAD':0}\n",
        "\n",
        "  for word in filtered_vocab:\n",
        "      word2id[word] = len(word2id)\n",
        "  id2word = {i:word for word, i in word2id.items()}\n",
        "\n",
        "  return word2id, id2word  "
      ]
    },
    {
      "cell_type": "code",
      "execution_count": 12,
      "metadata": {
        "id": "aPCj9a-bPP15"
      },
      "outputs": [],
      "source": [
        "def make_X(data, word2id):\n",
        "  X = []\n",
        "\n",
        "  for text in data:\n",
        "      tokens = preprocess(text)\n",
        "      ids = [word2id[token] for token in tokens if token in word2id]\n",
        "      X.append(ids)\n",
        "\n",
        "  return X"
      ]
    },
    {
      "cell_type": "code",
      "execution_count": 13,
      "metadata": {
        "id": "_9Qa9MnKVcmj"
      },
      "outputs": [],
      "source": [
        "def get_random_weighted_vals(X, word2id):\n",
        "  zero_arr = np.zeros(sum([len(x) for x in X]))\n",
        "  rand_arr = [word2id[WeightedPick(word2id)] for x in zero_arr]\n",
        "  return rand_arr"
      ]
    },
    {
      "cell_type": "code",
      "execution_count": 14,
      "metadata": {
        "id": "cZ_H58GJoTdG"
      },
      "outputs": [],
      "source": [
        "import random\n",
        "\n",
        "def WeightedPick(d):\n",
        "    r = random.uniform(0, sum(d.values()))\n",
        "    s = 0.0\n",
        "    for k, w in d.items():\n",
        "        s += w\n",
        "        if r < s: return k\n",
        "    return k"
      ]
    },
    {
      "cell_type": "code",
      "execution_count": 15,
      "metadata": {
        "id": "j8MVXM-ic5CI"
      },
      "outputs": [],
      "source": [
        "def gen_batches_sg(sentences, rand_ids, window = 12, batch_size=1000):\n",
        "    while True:\n",
        "        X_target = []\n",
        "        X_context = []\n",
        "        y = []\n",
        "\n",
        "        for sent in sentences:\n",
        "            for i in range(len(sent)):\n",
        "                word = sent[i]\n",
        "                left = max(0, i - window)\n",
        "                right = window - left + 1\n",
        "                context = sent[left:i] + sent[i+1:right]\n",
        "                for context_word in context:\n",
        "                    X_target.append(word)\n",
        "                    X_context.append(context_word)\n",
        "                    y.append(1)\n",
        "                    \n",
        "                    X_target.append(word)\n",
        "                    X_context.append(rand_ids[sentences.index(sent) + i])\n",
        "                    y.append(0)\n",
        "                    \n",
        "                    if len(X_target) >= batch_size:\n",
        "                        X_target = np.array(X_target)\n",
        "                        X_context = np.array(X_context)\n",
        "                        y = np.array(y)\n",
        "                        yield ((X_target, X_context), y)\n",
        "                        X_target = []\n",
        "                        X_context = []\n",
        "                        y = []"
      ]
    },
    {
      "cell_type": "code",
      "execution_count": 16,
      "metadata": {
        "id": "OOWrsvk3c7kS"
      },
      "outputs": [],
      "source": [
        "def gen_batches_cbow(sentences, rand_ids, window = 6, batch_size=1000):\n",
        "    while True:\n",
        "        X_target = []\n",
        "        X_context = []\n",
        "        y = []\n",
        "\n",
        "        for sent in sentences:\n",
        "            for i in range(len(sent)-1):\n",
        "                word = sent[i]\n",
        "                left = max(0, i - window)\n",
        "                right = window - left + 1\n",
        "                context = sent[left:i] + sent[i+1:right]\n",
        "\n",
        "                X_target.append(word)\n",
        "                X_context.append(context)\n",
        "                y.append(1)\n",
        "                \n",
        "                X_target.append(rand_ids[sentences.index(sent) + i])\n",
        "                X_context.append(context)\n",
        "                y.append(0)\n",
        "\n",
        "                if len(X_target) == batch_size:\n",
        "                    X_target = np.array(X_target)\n",
        "                    X_context = tf.keras.preprocessing.sequence.pad_sequences(X_context, maxlen=window*2)\n",
        "                    y = np.array(y)\n",
        "                    yield ((X_target, X_context), y)\n",
        "                    X_target = []\n",
        "                    X_context = []\n",
        "                    y = []"
      ]
    },
    {
      "cell_type": "code",
      "execution_count": 17,
      "metadata": {
        "id": "OAPupFy7Gw_B"
      },
      "outputs": [],
      "source": [
        "def fit_negative_sg(X_train, y_train, X_valid, y_valid, len_v):\n",
        "  inputs_target = tf.keras.layers.Input(shape=(1,))\n",
        "  inputs_context = tf.keras.layers.Input(shape=(1,))\n",
        "\n",
        "\n",
        "  embeddings_target = tf.keras.layers.Embedding(input_dim=len_v, output_dim=300)(inputs_target, )\n",
        "  embeddings_context = tf.keras.layers.Embedding(input_dim=len_v, output_dim=300)(inputs_context, )\n",
        "\n",
        "  target = tf.keras.layers.Flatten()(embeddings_target)\n",
        "  context = tf.keras.layers.Flatten()(embeddings_context)\n",
        "\n",
        "  dot = tf.keras.layers.Dot(1)([target, context])\n",
        "  outputs = tf.keras.layers.Activation(activation='sigmoid')(dot)\n",
        "\n",
        "  model = tf.keras.Model(inputs=[inputs_target, inputs_context], \n",
        "                        outputs=outputs)\n",
        "  optimizer = tf.keras.optimizers.Adam(learning_rate=0.001)\n",
        "  model.compile(optimizer=optimizer,\n",
        "                loss='binary_crossentropy',\n",
        "                metrics=['accuracy'])\n",
        "  \n",
        "  model.fit(gen_batches_sg(X_train, y_train),\n",
        "          validation_data=gen_batches_sg(X_valid, y_valid),\n",
        "          batch_size=1000,\n",
        "          steps_per_epoch=10000,\n",
        "          validation_steps=30,\n",
        "         epochs=2)\n",
        "  return model"
      ]
    },
    {
      "cell_type": "code",
      "execution_count": 18,
      "metadata": {
        "id": "HGr4TWnaHP16"
      },
      "outputs": [],
      "source": [
        "def fit_negative_cbow(X_train, y_train, X_valid, y_valid, len_v):\n",
        "  #cbow negative sampling\n",
        "  inputs_target = tf.keras.layers.Input(shape=(1,))\n",
        "  inputs_context = tf.keras.layers.Input(shape=(10,))\n",
        "\n",
        "\n",
        "  embeddings_target = tf.keras.layers.Embedding(input_dim=len_v, output_dim=300)(inputs_target, )\n",
        "  embeddings_context = tf.keras.layers.Embedding(input_dim=len_v, output_dim=300)(inputs_context, )\n",
        "\n",
        "  target = tf.keras.layers.Flatten()(embeddings_target)\n",
        "  context = tf.keras.layers.Lambda(lambda x: tf.keras.backend.sum(x, axis=1))(embeddings_context)\n",
        "  dot = tf.keras.layers.Dot(1)([target, context])\n",
        "\n",
        "  # полученную близость нужно преобразовать в вероятность\n",
        "  # когда она одна используется не софтмакс и сигмоида\n",
        "  outputs = tf.keras.layers.Activation(activation='sigmoid')(dot)\n",
        "\n",
        "  model = tf.keras.Model(inputs=[inputs_target, inputs_context], \n",
        "                        outputs=outputs)\n",
        "\n",
        "\n",
        "  optimizer = tf.keras.optimizers.Adam(learning_rate=0.001)\n",
        "  model.compile(optimizer=optimizer,\n",
        "                loss='binary_crossentropy',\n",
        "                metrics=['accuracy'])\n",
        "  \n",
        "  model.fit(gen_batches_cbow(X_train, y_train),\n",
        "          validation_data=gen_batches_cbow(X_valid, y_valid),\n",
        "          batch_size=1000,\n",
        "          steps_per_epoch=5000,\n",
        "          validation_steps=30,\n",
        "         epochs=2)\n",
        "  return model"
      ]
    },
    {
      "cell_type": "code",
      "execution_count": 19,
      "metadata": {
        "id": "E4bgS_xSQO8V"
      },
      "outputs": [],
      "source": [
        "def get_train_valid(data):\n",
        "  print('start')\n",
        "  word2id, id2word = preprocess_data(data)\n",
        "  X = make_X(data, word2id)\n",
        "\n",
        "  X_train = X[:int(len(X)*0.8)]\n",
        "  X_valid = X[int(len(X)*0.8):]\n",
        "  y_train = get_random_weighted_vals(X_train, word2id)\n",
        "  y_valid = get_random_weighted_vals(X_valid, word2id)\n",
        "  print('got data')\n",
        "  return X_train, y_train, X_valid, y_valid, word2id, id2word"
      ]
    },
    {
      "cell_type": "code",
      "execution_count": 20,
      "metadata": {
        "colab": {
          "base_uri": "https://localhost:8080/"
        },
        "id": "-YW1BPjPQgHO",
        "outputId": "95ecaa77-a283-4da5-897e-ebc97907a17a"
      },
      "outputs": [
        {
          "output_type": "stream",
          "name": "stdout",
          "text": [
            "start\n",
            "got data\n"
          ]
        }
      ],
      "source": [
        "X_train, y_train, X_valid, y_valid, word2id, id2word = get_train_valid(all_data)"
      ]
    },
    {
      "cell_type": "code",
      "execution_count": 21,
      "metadata": {
        "colab": {
          "base_uri": "https://localhost:8080/"
        },
        "id": "BaKoafQON82Z",
        "outputId": "137a2887-9e3b-4225-d164-0704a15d173d"
      },
      "outputs": [
        {
          "output_type": "stream",
          "name": "stdout",
          "text": [
            "Epoch 1/2\n",
            "10000/10000 [==============================] - 910s 91ms/step - loss: 0.3728 - accuracy: 0.9081 - val_loss: 1.4441 - val_accuracy: 0.5681\n",
            "Epoch 2/2\n",
            "10000/10000 [==============================] - 925s 93ms/step - loss: 0.4339 - accuracy: 0.9100 - val_loss: 2.2900 - val_accuracy: 0.5837\n"
          ]
        }
      ],
      "source": [
        "model_sg = fit_negative_sg(X_train, y_train, X_valid, y_valid, len(word2id))"
      ]
    },
    {
      "cell_type": "code",
      "execution_count": 22,
      "metadata": {
        "id": "TuYIcOvMOGyj",
        "colab": {
          "base_uri": "https://localhost:8080/"
        },
        "outputId": "d4fdf939-e12d-4145-c3ab-4e4a9b8a0994"
      },
      "outputs": [
        {
          "output_type": "stream",
          "name": "stdout",
          "text": [
            "Epoch 1/2\n",
            "5000/5000 [==============================] - 819s 164ms/step - loss: 0.1993 - accuracy: 0.9260 - val_loss: 1.0630 - val_accuracy: 0.6488\n",
            "Epoch 2/2\n",
            "5000/5000 [==============================] - 890s 178ms/step - loss: 0.1667 - accuracy: 0.9372 - val_loss: 1.1732 - val_accuracy: 0.6690\n"
          ]
        }
      ],
      "source": [
        "model_cbow = fit_negative_cbow(X_train, y_train, X_valid, y_valid, len(word2id))"
      ]
    },
    {
      "cell_type": "code",
      "source": [
        "(most_similar(\"церковь\", model_sg.layers[2].get_weights()[0]), most_similar(\"церковь\", model_cbow.layers[2].get_weights()[0]))"
      ],
      "metadata": {
        "colab": {
          "base_uri": "https://localhost:8080/"
        },
        "id": "u3c3yx0v9A1T",
        "outputId": "4e68e626-45de-4bb6-c0e7-437dec2b4178"
      },
      "execution_count": 23,
      "outputs": [
        {
          "output_type": "execute_result",
          "data": {
            "text/plain": [
              "(['церковь',\n",
              "  'округ',\n",
              "  'тело',\n",
              "  'ход',\n",
              "  'руководитель',\n",
              "  'уходить',\n",
              "  'начало',\n",
              "  'не',\n",
              "  'начинаться',\n",
              "  'впоследствии'],\n",
              " ['церковь',\n",
              "  'дом',\n",
              "  'местный',\n",
              "  'житель',\n",
              "  'мать',\n",
              "  'оно',\n",
              "  'xx',\n",
              "  'семья',\n",
              "  'перенести',\n",
              "  'каменный'])"
            ]
          },
          "metadata": {},
          "execution_count": 23
        }
      ]
    },
    {
      "cell_type": "code",
      "source": [
        "most_similar(\"газета\", model_sg.layers[2].get_weights()[0]), most_similar(\"газета\", model_cbow.layers[2].get_weights()[0])"
      ],
      "metadata": {
        "colab": {
          "base_uri": "https://localhost:8080/"
        },
        "id": "jCzU-MOB9Vg3",
        "outputId": "5ff4e249-3760-495a-d450-0c103f74a861"
      },
      "execution_count": 24,
      "outputs": [
        {
          "output_type": "execute_result",
          "data": {
            "text/plain": [
              "(['газета',\n",
              "  'цель',\n",
              "  'богоматерь',\n",
              "  'попытаться',\n",
              "  'бороться',\n",
              "  'победитель',\n",
              "  'л',\n",
              "  'будущий',\n",
              "  'сын',\n",
              "  'храм'],\n",
              " ['газета',\n",
              "  'семья',\n",
              "  'июнь',\n",
              "  'местный',\n",
              "  'решение',\n",
              "  'академия',\n",
              "  'дело',\n",
              "  'выражать',\n",
              "  'выходить',\n",
              "  'сотрудник'])"
            ]
          },
          "metadata": {},
          "execution_count": 24
        }
      ]
    },
    {
      "cell_type": "code",
      "source": [
        "most_similar(\"капитуляция\", model_sg.layers[2].get_weights()[0]), most_similar(\"капитуляция\", model_cbow.layers[2].get_weights()[0])"
      ],
      "metadata": {
        "colab": {
          "base_uri": "https://localhost:8080/"
        },
        "id": "ChHYmw4s9lED",
        "outputId": "cc44ec5b-abdd-4cf5-f8d2-4ed5b849eec9"
      },
      "execution_count": 25,
      "outputs": [
        {
          "output_type": "execute_result",
          "data": {
            "text/plain": [
              "(['капитуляция',\n",
              "  'связанный',\n",
              "  'необходимо',\n",
              "  'английский',\n",
              "  'захватить',\n",
              "  'наименование',\n",
              "  'сезон',\n",
              "  'будущий',\n",
              "  'борьба',\n",
              "  'налог'],\n",
              " ['капитуляция',\n",
              "  'командование',\n",
              "  'сформировывать',\n",
              "  'полковник',\n",
              "  'лагерь',\n",
              "  'капитан',\n",
              "  'генерал-майор',\n",
              "  'артиллерийский',\n",
              "  'германский',\n",
              "  'взятие'])"
            ]
          },
          "metadata": {},
          "execution_count": 25
        }
      ]
    },
    {
      "cell_type": "markdown",
      "source": [
        "Можно увидеть, что в целом модели получились не совсем хорошими, но какое-то слово, похожее по смыслу можно найти в выдаче. Стоит отметить, что модель cbow выдаёт лучше результаты."
      ],
      "metadata": {
        "id": "ra496pNC94GW"
      }
    },
    {
      "cell_type": "markdown",
      "metadata": {
        "id": "RFpqsjJZ1LeP"
      },
      "source": [
        "# Задание 2"
      ]
    },
    {
      "cell_type": "code",
      "execution_count": 26,
      "metadata": {
        "id": "uSadWkEyX7On"
      },
      "outputs": [],
      "source": [
        "import gensim"
      ]
    },
    {
      "cell_type": "code",
      "execution_count": 27,
      "metadata": {
        "id": "W-ycab5CYKdg"
      },
      "outputs": [],
      "source": [
        "texts = [preprocess(text) for text in all_data]"
      ]
    },
    {
      "cell_type": "code",
      "execution_count": 28,
      "metadata": {
        "id": "MXuMI4zzX77m"
      },
      "outputs": [],
      "source": [
        "w2v = gensim.models.Word2Vec(texts, \n",
        "                             vector_size=300, \n",
        "                             min_count=50, \n",
        "                             max_vocab_size=100000,\n",
        "                             window=8,\n",
        "                             sg=1,\n",
        "                             workers=2,\n",
        "                             seed=2,\n",
        "                             epochs=7,\n",
        "                             hs=1,\n",
        "                             cbow_mean=0\n",
        "                             )"
      ]
    },
    {
      "cell_type": "code",
      "execution_count": null,
      "metadata": {
        "id": "JlQKZXXlZ3mM"
      },
      "outputs": [],
      "source": [
        "w2v.wv.most_similar('церковь')"
      ]
    },
    {
      "cell_type": "code",
      "execution_count": 29,
      "metadata": {
        "id": "r_CtWErPbDg8"
      },
      "outputs": [],
      "source": [
        "ft = gensim.models.FastText(texts, window=7, min_alpha=0.001, min_n=1, max_n=6, vector_size=300)"
      ]
    },
    {
      "cell_type": "code",
      "execution_count": 33,
      "metadata": {
        "id": "q9ceJQVJbJXe",
        "colab": {
          "base_uri": "https://localhost:8080/"
        },
        "outputId": "51a5ffef-3aa1-43d6-e80a-062a592fa273"
      },
      "outputs": [
        {
          "output_type": "execute_result",
          "data": {
            "text/plain": [
              "([('храм', 0.7494755983352661),\n",
              "  ('собор', 0.7134344577789307),\n",
              "  ('православный', 0.7000914812088013),\n",
              "  ('святой', 0.6768147945404053),\n",
              "  ('освящать', 0.6725195646286011),\n",
              "  ('часовня', 0.6371599435806274),\n",
              "  ('католический', 0.6305620074272156),\n",
              "  ('пресвятой', 0.6253577470779419),\n",
              "  ('прихожанин', 0.6206818222999573),\n",
              "  ('монастырь', 0.6084731221199036)],\n",
              " [('церковь#', 0.970466136932373),\n",
              "  ('морковь', 0.8428837060928345),\n",
              "  ('монастырь', 0.8399038314819336),\n",
              "  ('церковный', 0.8177922964096069),\n",
              "  ('храм', 0.8107518553733826),\n",
              "  ('монастырь#', 0.7995739579200745),\n",
              "  ('архипастырь', 0.78423011302948),\n",
              "  ('пастырь', 0.7710403800010681),\n",
              "  ('собор', 0.770180881023407),\n",
              "  ('монастырская', 0.7668732404708862)])"
            ]
          },
          "metadata": {},
          "execution_count": 33
        }
      ],
      "source": [
        "w2v.wv.most_similar('церковь'), ft.wv.most_similar('церковь')"
      ]
    },
    {
      "cell_type": "code",
      "source": [
        "w2v.wv.most_similar('газета'), ft.wv.most_similar('газета')"
      ],
      "metadata": {
        "colab": {
          "base_uri": "https://localhost:8080/"
        },
        "id": "BKXT1PGzgJCp",
        "outputId": "64a81537-65e4-4b76-9c9a-730211a1ebaf"
      },
      "execution_count": 31,
      "outputs": [
        {
          "output_type": "execute_result",
          "data": {
            "text/plain": [
              "([('редактор', 0.6380631327629089),\n",
              "  ('журнал', 0.6210442781448364),\n",
              "  ('корреспондент', 0.5766292214393616),\n",
              "  ('публиковаться', 0.5484575629234314),\n",
              "  ('печататься', 0.5384432077407837),\n",
              "  ('издаваться', 0.5344370007514954),\n",
              "  ('общественно-политический', 0.5314157009124756),\n",
              "  ('издание', 0.5269787907600403),\n",
              "  ('известие', 0.5180867314338684),\n",
              "  ('новость', 0.5020334720611572)],\n",
              " [('журнал', 0.7429567575454712),\n",
              "  ('газель', 0.6913561224937439),\n",
              "  ('госкомиздат', 0.6843876838684082),\n",
              "  ('гагауз', 0.6794601082801819),\n",
              "  ('газа', 0.6778537034988403),\n",
              "  ('издатель', 0.6720065474510193),\n",
              "  ('изда', 0.664497971534729),\n",
              "  ('журналистка', 0.6628860831260681),\n",
              "  ('издавна', 0.6565166711807251),\n",
              "  ('газетный', 0.6531410217285156)])"
            ]
          },
          "metadata": {},
          "execution_count": 31
        }
      ]
    },
    {
      "cell_type": "code",
      "source": [
        "w2v.wv.most_similar('капитуляция'), ft.wv.most_similar('капитуляция')"
      ],
      "metadata": {
        "colab": {
          "base_uri": "https://localhost:8080/"
        },
        "id": "RwHYz-MUgL3I",
        "outputId": "9210d521-32f7-471d-a911-13a488c81540"
      },
      "execution_count": 32,
      "outputs": [
        {
          "output_type": "execute_result",
          "data": {
            "text/plain": [
              "([('подписание', 0.43641525506973267),\n",
              "  ('войско', 0.4343109428882599),\n",
              "  ('сдаваться', 0.42240387201309204),\n",
              "  ('перемирие', 0.4205203652381897),\n",
              "  ('плен', 0.41508400440216064),\n",
              "  ('вторжение', 0.3960152268409729),\n",
              "  ('наступление', 0.3832736611366272),\n",
              "  ('француз', 0.38060662150382996),\n",
              "  ('переговоры', 0.38037028908729553),\n",
              "  ('японец', 0.3763851225376129)],\n",
              " [('манипуляция', 0.8640726208686829),\n",
              "  ('коагуляция', 0.8625158667564392),\n",
              "  ('капитализация', 0.8548827171325684),\n",
              "  ('апелляция', 0.8481954336166382),\n",
              "  ('контрибуция', 0.8466829657554626),\n",
              "  ('конспирация', 0.8465123176574707),\n",
              "  ('триангуляция', 0.8454871773719788),\n",
              "  ('интабуляция', 0.843769371509552),\n",
              "  ('корреляция', 0.8426873087882996),\n",
              "  ('имплантация', 0.8405661582946777)])"
            ]
          },
          "metadata": {},
          "execution_count": 32
        }
      ]
    },
    {
      "cell_type": "markdown",
      "source": [
        "Видно, что модели gensim работают намного лучше моделей, основанных на работе tensorflow."
      ],
      "metadata": {
        "id": "lwkzUwL-tDv2"
      }
    },
    {
      "cell_type": "markdown",
      "metadata": {
        "id": "gSMc0IQJ1kgO"
      },
      "source": [
        "# Задание 3"
      ]
    },
    {
      "cell_type": "code",
      "execution_count": 34,
      "metadata": {
        "id": "v6DLUIN51sp1"
      },
      "outputs": [],
      "source": [
        "word2id, id2word = preprocess_data(data.comment, 5)\n",
        "X = make_X(data.comment, word2id)"
      ]
    },
    {
      "cell_type": "code",
      "execution_count": 35,
      "metadata": {
        "id": "aZglMtDd_47c"
      },
      "outputs": [],
      "source": [
        "len_dim = 300"
      ]
    },
    {
      "cell_type": "code",
      "execution_count": 36,
      "metadata": {
        "id": "Ql15lx5Zi4Wx"
      },
      "outputs": [],
      "source": [
        "X = tf.keras.preprocessing.sequence.pad_sequences(X, maxlen=len_dim)\n",
        "y = data.toxic.values"
      ]
    },
    {
      "cell_type": "code",
      "execution_count": 37,
      "metadata": {
        "id": "RGOSyB8P2RtX"
      },
      "outputs": [],
      "source": [
        "def fit_model(X_train, y_train, X_valid, y_valid, len_v, weights, len_dim=100):\n",
        "  inputs = tf.keras.layers.Input(shape=(len_dim,))\n",
        "\n",
        "  # передаем матрицу в эмбединг слой\n",
        "  # указываем параметр trainable=False, чтобы вектора не обучались\n",
        "  # Пояснение: кажется, что обучение векторов отключать не стоит, так как модель должна взять готовые \n",
        "  # эмбединги и подогнать их к нашей задаче. На практитке это однако не работает - эмбединги просто \n",
        "  # обучатся заново\n",
        "  embeddings = tf.keras.layers.Embedding(input_dim=len_v, output_dim=len_dim, \n",
        "                                        trainable=False,\n",
        "                                        weights=[weights])(inputs, )\n",
        "  mean = tf.keras.layers.Lambda(lambda x: tf.keras.backend.mean(x,  axis=1))(embeddings)\n",
        "\n",
        "  outputs = tf.keras.layers.Dense(1, activation='sigmoid')(mean)\n",
        "\n",
        "  model = tf.keras.Model(inputs=inputs, outputs=outputs)\n",
        "  optimizer = tf.keras.optimizers.Adam()\n",
        "  model.compile(optimizer=optimizer,\n",
        "                loss='binary_crossentropy',\n",
        "                metrics=['accuracy'])\n",
        "  \n",
        "  model.fit(X_train, y_train, \n",
        "          validation_data=(X_valid, y_valid),\n",
        "          batch_size=32,\n",
        "         epochs=30)\n",
        "  return model"
      ]
    },
    {
      "cell_type": "code",
      "execution_count": 38,
      "metadata": {
        "id": "yw9O5Jj-i6Wy"
      },
      "outputs": [],
      "source": [
        "X_train, X_valid, y_train, y_valid = train_test_split(X, y, test_size=0.05)"
      ]
    },
    {
      "cell_type": "code",
      "execution_count": 39,
      "metadata": {
        "id": "Gaqt2En_JWqe"
      },
      "outputs": [],
      "source": [
        "def calculate_weights(word2id, len_dim, embeddings, tf=True, preload=False):\n",
        "  weights = np.zeros((len(word2id), len_dim))\n",
        "\n",
        "  for word, i in word2id.items():\n",
        "      # вектор паддинга оставим нулевым\n",
        "      if word == 'PAD':\n",
        "          continue\n",
        "\n",
        "      try:\n",
        "          weights[i] = embeddings[word2id[word]] if tf else embeddings[word] if not preload else embeddings(word)\n",
        "      \n",
        "      \n",
        "      except KeyError:\n",
        "          # для слов, которых нет в модели тоже возьмем какой-то  рандомный вектор\n",
        "          continue\n",
        "          weights[i] = embeddings['опрагпллирао']\n",
        "\n",
        "  return weights"
      ]
    },
    {
      "cell_type": "code",
      "execution_count": 40,
      "metadata": {
        "id": "16isFA1vF4k3"
      },
      "outputs": [],
      "source": [
        "models = []\n",
        "list_weights = []"
      ]
    },
    {
      "cell_type": "code",
      "execution_count": 41,
      "metadata": {
        "id": "iA9PnOO8KDMt"
      },
      "outputs": [],
      "source": [
        "list_weights.append(calculate_weights(word2id, model_sg.layers[2].get_weights()[0].shape[1], model_sg.layers[2].get_weights()[0]))"
      ]
    },
    {
      "cell_type": "code",
      "execution_count": 42,
      "metadata": {
        "id": "j7h3bkVPHFw4"
      },
      "outputs": [],
      "source": [
        "list_weights.append(calculate_weights(word2id, len_dim, model_cbow.layers[2].get_weights()[0]))"
      ]
    },
    {
      "cell_type": "code",
      "execution_count": 43,
      "metadata": {
        "id": "XWU7oiZbMEj7"
      },
      "outputs": [],
      "source": [
        "list_weights.append(calculate_weights(word2id, len_dim, ft.wv, False))"
      ]
    },
    {
      "cell_type": "code",
      "execution_count": 44,
      "metadata": {
        "id": "LbCYmvHnMQ-S"
      },
      "outputs": [],
      "source": [
        "list_weights.append(calculate_weights(word2id, len_dim, w2v.wv, False))"
      ]
    },
    {
      "cell_type": "code",
      "execution_count": 45,
      "metadata": {
        "id": "FANfQhhVHLi2",
        "colab": {
          "base_uri": "https://localhost:8080/"
        },
        "outputId": "0b72d1ce-b6f5-4608-f651-35a0772a63fa"
      },
      "outputs": [
        {
          "output_type": "stream",
          "name": "stdout",
          "text": [
            "Epoch 1/30\n",
            "428/428 [==============================] - 3s 5ms/step - loss: 0.6598 - accuracy: 0.6650 - val_loss: 0.6363 - val_accuracy: 0.6685\n",
            "Epoch 2/30\n",
            "428/428 [==============================] - 2s 5ms/step - loss: 0.6360 - accuracy: 0.6650 - val_loss: 0.6259 - val_accuracy: 0.6685\n",
            "Epoch 3/30\n",
            "428/428 [==============================] - 2s 5ms/step - loss: 0.6327 - accuracy: 0.6650 - val_loss: 0.6239 - val_accuracy: 0.6685\n",
            "Epoch 4/30\n",
            "428/428 [==============================] - 2s 6ms/step - loss: 0.6322 - accuracy: 0.6650 - val_loss: 0.6233 - val_accuracy: 0.6685\n",
            "Epoch 5/30\n",
            "428/428 [==============================] - 2s 5ms/step - loss: 0.6321 - accuracy: 0.6650 - val_loss: 0.6232 - val_accuracy: 0.6685\n",
            "Epoch 6/30\n",
            "428/428 [==============================] - 2s 5ms/step - loss: 0.6320 - accuracy: 0.6650 - val_loss: 0.6230 - val_accuracy: 0.6685\n",
            "Epoch 7/30\n",
            "428/428 [==============================] - 2s 5ms/step - loss: 0.6319 - accuracy: 0.6650 - val_loss: 0.6229 - val_accuracy: 0.6685\n",
            "Epoch 8/30\n",
            "428/428 [==============================] - 2s 5ms/step - loss: 0.6318 - accuracy: 0.6650 - val_loss: 0.6228 - val_accuracy: 0.6685\n",
            "Epoch 9/30\n",
            "428/428 [==============================] - 2s 5ms/step - loss: 0.6317 - accuracy: 0.6650 - val_loss: 0.6228 - val_accuracy: 0.6685\n",
            "Epoch 10/30\n",
            "428/428 [==============================] - 2s 5ms/step - loss: 0.6316 - accuracy: 0.6650 - val_loss: 0.6227 - val_accuracy: 0.6685\n",
            "Epoch 11/30\n",
            "428/428 [==============================] - 2s 5ms/step - loss: 0.6315 - accuracy: 0.6650 - val_loss: 0.6226 - val_accuracy: 0.6685\n",
            "Epoch 12/30\n",
            "428/428 [==============================] - 2s 5ms/step - loss: 0.6314 - accuracy: 0.6650 - val_loss: 0.6225 - val_accuracy: 0.6685\n",
            "Epoch 13/30\n",
            "428/428 [==============================] - 2s 5ms/step - loss: 0.6314 - accuracy: 0.6650 - val_loss: 0.6225 - val_accuracy: 0.6685\n",
            "Epoch 14/30\n",
            "428/428 [==============================] - 2s 5ms/step - loss: 0.6313 - accuracy: 0.6650 - val_loss: 0.6225 - val_accuracy: 0.6685\n",
            "Epoch 15/30\n",
            "428/428 [==============================] - 2s 5ms/step - loss: 0.6312 - accuracy: 0.6650 - val_loss: 0.6223 - val_accuracy: 0.6685\n",
            "Epoch 16/30\n",
            "428/428 [==============================] - 2s 5ms/step - loss: 0.6311 - accuracy: 0.6650 - val_loss: 0.6223 - val_accuracy: 0.6685\n",
            "Epoch 17/30\n",
            "428/428 [==============================] - 2s 5ms/step - loss: 0.6310 - accuracy: 0.6650 - val_loss: 0.6223 - val_accuracy: 0.6685\n",
            "Epoch 18/30\n",
            "428/428 [==============================] - 2s 5ms/step - loss: 0.6309 - accuracy: 0.6650 - val_loss: 0.6221 - val_accuracy: 0.6685\n",
            "Epoch 19/30\n",
            "428/428 [==============================] - 2s 5ms/step - loss: 0.6308 - accuracy: 0.6650 - val_loss: 0.6221 - val_accuracy: 0.6685\n",
            "Epoch 20/30\n",
            "428/428 [==============================] - 2s 5ms/step - loss: 0.6307 - accuracy: 0.6650 - val_loss: 0.6219 - val_accuracy: 0.6685\n",
            "Epoch 21/30\n",
            "428/428 [==============================] - 2s 5ms/step - loss: 0.6306 - accuracy: 0.6650 - val_loss: 0.6218 - val_accuracy: 0.6685\n",
            "Epoch 22/30\n",
            "428/428 [==============================] - 3s 6ms/step - loss: 0.6306 - accuracy: 0.6650 - val_loss: 0.6220 - val_accuracy: 0.6685\n",
            "Epoch 23/30\n",
            "428/428 [==============================] - 2s 5ms/step - loss: 0.6305 - accuracy: 0.6650 - val_loss: 0.6218 - val_accuracy: 0.6685\n",
            "Epoch 24/30\n",
            "428/428 [==============================] - 2s 5ms/step - loss: 0.6304 - accuracy: 0.6650 - val_loss: 0.6217 - val_accuracy: 0.6685\n",
            "Epoch 25/30\n",
            "428/428 [==============================] - 2s 5ms/step - loss: 0.6303 - accuracy: 0.6650 - val_loss: 0.6215 - val_accuracy: 0.6685\n",
            "Epoch 26/30\n",
            "428/428 [==============================] - 2s 5ms/step - loss: 0.6302 - accuracy: 0.6650 - val_loss: 0.6214 - val_accuracy: 0.6685\n",
            "Epoch 27/30\n",
            "428/428 [==============================] - 2s 5ms/step - loss: 0.6301 - accuracy: 0.6650 - val_loss: 0.6212 - val_accuracy: 0.6685\n",
            "Epoch 28/30\n",
            "428/428 [==============================] - 2s 5ms/step - loss: 0.6300 - accuracy: 0.6650 - val_loss: 0.6213 - val_accuracy: 0.6685\n",
            "Epoch 29/30\n",
            "428/428 [==============================] - 2s 5ms/step - loss: 0.6300 - accuracy: 0.6650 - val_loss: 0.6214 - val_accuracy: 0.6685\n",
            "Epoch 30/30\n",
            "428/428 [==============================] - 2s 5ms/step - loss: 0.6298 - accuracy: 0.6650 - val_loss: 0.6212 - val_accuracy: 0.6685\n",
            "Epoch 1/30\n",
            "428/428 [==============================] - 3s 5ms/step - loss: 0.6557 - accuracy: 0.6592 - val_loss: 0.6281 - val_accuracy: 0.6685\n",
            "Epoch 2/30\n",
            "428/428 [==============================] - 2s 5ms/step - loss: 0.6321 - accuracy: 0.6650 - val_loss: 0.6197 - val_accuracy: 0.6685\n",
            "Epoch 3/30\n",
            "428/428 [==============================] - 2s 5ms/step - loss: 0.6299 - accuracy: 0.6650 - val_loss: 0.6187 - val_accuracy: 0.6685\n",
            "Epoch 4/30\n",
            "428/428 [==============================] - 2s 5ms/step - loss: 0.6294 - accuracy: 0.6650 - val_loss: 0.6181 - val_accuracy: 0.6685\n",
            "Epoch 5/30\n",
            "428/428 [==============================] - 2s 5ms/step - loss: 0.6291 - accuracy: 0.6650 - val_loss: 0.6180 - val_accuracy: 0.6685\n",
            "Epoch 6/30\n",
            "428/428 [==============================] - 2s 5ms/step - loss: 0.6287 - accuracy: 0.6650 - val_loss: 0.6184 - val_accuracy: 0.6685\n",
            "Epoch 7/30\n",
            "428/428 [==============================] - 2s 5ms/step - loss: 0.6284 - accuracy: 0.6650 - val_loss: 0.6183 - val_accuracy: 0.6685\n",
            "Epoch 8/30\n",
            "428/428 [==============================] - 2s 5ms/step - loss: 0.6282 - accuracy: 0.6650 - val_loss: 0.6180 - val_accuracy: 0.6685\n",
            "Epoch 9/30\n",
            "428/428 [==============================] - 2s 5ms/step - loss: 0.6278 - accuracy: 0.6650 - val_loss: 0.6181 - val_accuracy: 0.6685\n",
            "Epoch 10/30\n",
            "428/428 [==============================] - 2s 5ms/step - loss: 0.6275 - accuracy: 0.6650 - val_loss: 0.6183 - val_accuracy: 0.6685\n",
            "Epoch 11/30\n",
            "428/428 [==============================] - 2s 5ms/step - loss: 0.6273 - accuracy: 0.6650 - val_loss: 0.6179 - val_accuracy: 0.6685\n",
            "Epoch 12/30\n",
            "428/428 [==============================] - 2s 5ms/step - loss: 0.6270 - accuracy: 0.6650 - val_loss: 0.6176 - val_accuracy: 0.6685\n",
            "Epoch 13/30\n",
            "428/428 [==============================] - 2s 5ms/step - loss: 0.6267 - accuracy: 0.6650 - val_loss: 0.6175 - val_accuracy: 0.6685\n",
            "Epoch 14/30\n",
            "428/428 [==============================] - 2s 5ms/step - loss: 0.6264 - accuracy: 0.6650 - val_loss: 0.6175 - val_accuracy: 0.6685\n",
            "Epoch 15/30\n",
            "428/428 [==============================] - 2s 5ms/step - loss: 0.6262 - accuracy: 0.6650 - val_loss: 0.6173 - val_accuracy: 0.6685\n",
            "Epoch 16/30\n",
            "428/428 [==============================] - 2s 5ms/step - loss: 0.6259 - accuracy: 0.6650 - val_loss: 0.6175 - val_accuracy: 0.6685\n",
            "Epoch 17/30\n",
            "428/428 [==============================] - 2s 5ms/step - loss: 0.6256 - accuracy: 0.6650 - val_loss: 0.6173 - val_accuracy: 0.6685\n",
            "Epoch 18/30\n",
            "428/428 [==============================] - 2s 5ms/step - loss: 0.6254 - accuracy: 0.6650 - val_loss: 0.6173 - val_accuracy: 0.6685\n",
            "Epoch 19/30\n",
            "428/428 [==============================] - 2s 5ms/step - loss: 0.6251 - accuracy: 0.6650 - val_loss: 0.6175 - val_accuracy: 0.6685\n",
            "Epoch 20/30\n",
            "428/428 [==============================] - 2s 5ms/step - loss: 0.6249 - accuracy: 0.6650 - val_loss: 0.6170 - val_accuracy: 0.6685\n",
            "Epoch 21/30\n",
            "428/428 [==============================] - 2s 5ms/step - loss: 0.6246 - accuracy: 0.6650 - val_loss: 0.6170 - val_accuracy: 0.6685\n",
            "Epoch 22/30\n",
            "428/428 [==============================] - 2s 5ms/step - loss: 0.6244 - accuracy: 0.6650 - val_loss: 0.6168 - val_accuracy: 0.6685\n",
            "Epoch 23/30\n",
            "428/428 [==============================] - 2s 5ms/step - loss: 0.6241 - accuracy: 0.6650 - val_loss: 0.6165 - val_accuracy: 0.6685\n",
            "Epoch 24/30\n",
            "428/428 [==============================] - 2s 5ms/step - loss: 0.6239 - accuracy: 0.6650 - val_loss: 0.6166 - val_accuracy: 0.6685\n",
            "Epoch 25/30\n",
            "428/428 [==============================] - 2s 5ms/step - loss: 0.6237 - accuracy: 0.6650 - val_loss: 0.6165 - val_accuracy: 0.6685\n",
            "Epoch 26/30\n",
            "428/428 [==============================] - 2s 5ms/step - loss: 0.6234 - accuracy: 0.6650 - val_loss: 0.6164 - val_accuracy: 0.6685\n",
            "Epoch 27/30\n",
            "428/428 [==============================] - 2s 5ms/step - loss: 0.6232 - accuracy: 0.6650 - val_loss: 0.6164 - val_accuracy: 0.6685\n",
            "Epoch 28/30\n",
            "428/428 [==============================] - 2s 6ms/step - loss: 0.6230 - accuracy: 0.6650 - val_loss: 0.6161 - val_accuracy: 0.6685\n",
            "Epoch 29/30\n",
            "428/428 [==============================] - 2s 5ms/step - loss: 0.6228 - accuracy: 0.6650 - val_loss: 0.6164 - val_accuracy: 0.6685\n",
            "Epoch 30/30\n",
            "428/428 [==============================] - 2s 5ms/step - loss: 0.6225 - accuracy: 0.6650 - val_loss: 0.6161 - val_accuracy: 0.6685\n",
            "Epoch 1/30\n",
            "428/428 [==============================] - 3s 5ms/step - loss: 0.6301 - accuracy: 0.6649 - val_loss: 0.6043 - val_accuracy: 0.6685\n",
            "Epoch 2/30\n",
            "428/428 [==============================] - 2s 5ms/step - loss: 0.6090 - accuracy: 0.6653 - val_loss: 0.5899 - val_accuracy: 0.6685\n",
            "Epoch 3/30\n",
            "428/428 [==============================] - 2s 5ms/step - loss: 0.5958 - accuracy: 0.6665 - val_loss: 0.5838 - val_accuracy: 0.6755\n",
            "Epoch 4/30\n",
            "428/428 [==============================] - 2s 5ms/step - loss: 0.5861 - accuracy: 0.6683 - val_loss: 0.5743 - val_accuracy: 0.6810\n",
            "Epoch 5/30\n",
            "428/428 [==============================] - 2s 5ms/step - loss: 0.5784 - accuracy: 0.6737 - val_loss: 0.5669 - val_accuracy: 0.6838\n",
            "Epoch 6/30\n",
            "428/428 [==============================] - 2s 5ms/step - loss: 0.5718 - accuracy: 0.6795 - val_loss: 0.5593 - val_accuracy: 0.6865\n",
            "Epoch 7/30\n",
            "428/428 [==============================] - 2s 5ms/step - loss: 0.5661 - accuracy: 0.6829 - val_loss: 0.5537 - val_accuracy: 0.6879\n",
            "Epoch 8/30\n",
            "428/428 [==============================] - 2s 5ms/step - loss: 0.5614 - accuracy: 0.6861 - val_loss: 0.5510 - val_accuracy: 0.6935\n",
            "Epoch 9/30\n",
            "428/428 [==============================] - 2s 5ms/step - loss: 0.5568 - accuracy: 0.6905 - val_loss: 0.5494 - val_accuracy: 0.7018\n",
            "Epoch 10/30\n",
            "428/428 [==============================] - 2s 5ms/step - loss: 0.5532 - accuracy: 0.6969 - val_loss: 0.5430 - val_accuracy: 0.7004\n",
            "Epoch 11/30\n",
            "428/428 [==============================] - 2s 5ms/step - loss: 0.5496 - accuracy: 0.7024 - val_loss: 0.5377 - val_accuracy: 0.7032\n",
            "Epoch 12/30\n",
            "428/428 [==============================] - 2s 5ms/step - loss: 0.5464 - accuracy: 0.7053 - val_loss: 0.5355 - val_accuracy: 0.7087\n",
            "Epoch 13/30\n",
            "428/428 [==============================] - 2s 5ms/step - loss: 0.5433 - accuracy: 0.7103 - val_loss: 0.5339 - val_accuracy: 0.7171\n",
            "Epoch 14/30\n",
            "428/428 [==============================] - 2s 5ms/step - loss: 0.5406 - accuracy: 0.7129 - val_loss: 0.5378 - val_accuracy: 0.7309\n",
            "Epoch 15/30\n",
            "428/428 [==============================] - 2s 5ms/step - loss: 0.5386 - accuracy: 0.7168 - val_loss: 0.5278 - val_accuracy: 0.7226\n",
            "Epoch 16/30\n",
            "428/428 [==============================] - 2s 5ms/step - loss: 0.5362 - accuracy: 0.7196 - val_loss: 0.5264 - val_accuracy: 0.7295\n",
            "Epoch 17/30\n",
            "428/428 [==============================] - 2s 5ms/step - loss: 0.5341 - accuracy: 0.7222 - val_loss: 0.5260 - val_accuracy: 0.7365\n",
            "Epoch 18/30\n",
            "428/428 [==============================] - 2s 5ms/step - loss: 0.5321 - accuracy: 0.7241 - val_loss: 0.5228 - val_accuracy: 0.7379\n",
            "Epoch 19/30\n",
            "428/428 [==============================] - 2s 5ms/step - loss: 0.5304 - accuracy: 0.7278 - val_loss: 0.5177 - val_accuracy: 0.7379\n",
            "Epoch 20/30\n",
            "428/428 [==============================] - 2s 5ms/step - loss: 0.5287 - accuracy: 0.7289 - val_loss: 0.5168 - val_accuracy: 0.7393\n",
            "Epoch 21/30\n",
            "428/428 [==============================] - 2s 5ms/step - loss: 0.5269 - accuracy: 0.7314 - val_loss: 0.5152 - val_accuracy: 0.7406\n",
            "Epoch 22/30\n",
            "428/428 [==============================] - 2s 5ms/step - loss: 0.5255 - accuracy: 0.7318 - val_loss: 0.5161 - val_accuracy: 0.7448\n",
            "Epoch 23/30\n",
            "428/428 [==============================] - 2s 5ms/step - loss: 0.5241 - accuracy: 0.7346 - val_loss: 0.5119 - val_accuracy: 0.7420\n",
            "Epoch 24/30\n",
            "428/428 [==============================] - 2s 5ms/step - loss: 0.5227 - accuracy: 0.7353 - val_loss: 0.5111 - val_accuracy: 0.7476\n",
            "Epoch 25/30\n",
            "428/428 [==============================] - 2s 5ms/step - loss: 0.5212 - accuracy: 0.7394 - val_loss: 0.5077 - val_accuracy: 0.7406\n",
            "Epoch 26/30\n",
            "428/428 [==============================] - 2s 5ms/step - loss: 0.5203 - accuracy: 0.7376 - val_loss: 0.5078 - val_accuracy: 0.7503\n",
            "Epoch 27/30\n",
            "428/428 [==============================] - 2s 5ms/step - loss: 0.5192 - accuracy: 0.7406 - val_loss: 0.5061 - val_accuracy: 0.7476\n",
            "Epoch 28/30\n",
            "428/428 [==============================] - 2s 5ms/step - loss: 0.5178 - accuracy: 0.7415 - val_loss: 0.5039 - val_accuracy: 0.7490\n",
            "Epoch 29/30\n",
            "428/428 [==============================] - 2s 5ms/step - loss: 0.5169 - accuracy: 0.7424 - val_loss: 0.5041 - val_accuracy: 0.7517\n",
            "Epoch 30/30\n",
            "428/428 [==============================] - 2s 5ms/step - loss: 0.5157 - accuracy: 0.7441 - val_loss: 0.5022 - val_accuracy: 0.7517\n",
            "Epoch 1/30\n",
            "428/428 [==============================] - 3s 6ms/step - loss: 0.6530 - accuracy: 0.6631 - val_loss: 0.6254 - val_accuracy: 0.6685\n",
            "Epoch 2/30\n",
            "428/428 [==============================] - 2s 6ms/step - loss: 0.6249 - accuracy: 0.6650 - val_loss: 0.6121 - val_accuracy: 0.6685\n",
            "Epoch 3/30\n",
            "428/428 [==============================] - 2s 5ms/step - loss: 0.6189 - accuracy: 0.6650 - val_loss: 0.6072 - val_accuracy: 0.6685\n",
            "Epoch 4/30\n",
            "428/428 [==============================] - 2s 6ms/step - loss: 0.6152 - accuracy: 0.6650 - val_loss: 0.6036 - val_accuracy: 0.6685\n",
            "Epoch 5/30\n",
            "428/428 [==============================] - 3s 6ms/step - loss: 0.6118 - accuracy: 0.6650 - val_loss: 0.6008 - val_accuracy: 0.6685\n",
            "Epoch 6/30\n",
            "428/428 [==============================] - 2s 6ms/step - loss: 0.6086 - accuracy: 0.6650 - val_loss: 0.5976 - val_accuracy: 0.6685\n",
            "Epoch 7/30\n",
            "428/428 [==============================] - 2s 6ms/step - loss: 0.6054 - accuracy: 0.6650 - val_loss: 0.5946 - val_accuracy: 0.6685\n",
            "Epoch 8/30\n",
            "428/428 [==============================] - 3s 6ms/step - loss: 0.6023 - accuracy: 0.6650 - val_loss: 0.5919 - val_accuracy: 0.6685\n",
            "Epoch 9/30\n",
            "428/428 [==============================] - 3s 6ms/step - loss: 0.5994 - accuracy: 0.6650 - val_loss: 0.5892 - val_accuracy: 0.6685\n",
            "Epoch 10/30\n",
            "428/428 [==============================] - 2s 6ms/step - loss: 0.5965 - accuracy: 0.6652 - val_loss: 0.5867 - val_accuracy: 0.6685\n",
            "Epoch 11/30\n",
            "428/428 [==============================] - 2s 6ms/step - loss: 0.5939 - accuracy: 0.6654 - val_loss: 0.5841 - val_accuracy: 0.6685\n",
            "Epoch 12/30\n",
            "428/428 [==============================] - 2s 6ms/step - loss: 0.5913 - accuracy: 0.6656 - val_loss: 0.5817 - val_accuracy: 0.6685\n",
            "Epoch 13/30\n",
            "428/428 [==============================] - 3s 6ms/step - loss: 0.5888 - accuracy: 0.6662 - val_loss: 0.5791 - val_accuracy: 0.6699\n",
            "Epoch 14/30\n",
            "428/428 [==============================] - 3s 6ms/step - loss: 0.5865 - accuracy: 0.6665 - val_loss: 0.5771 - val_accuracy: 0.6713\n",
            "Epoch 15/30\n",
            "428/428 [==============================] - 2s 6ms/step - loss: 0.5841 - accuracy: 0.6674 - val_loss: 0.5750 - val_accuracy: 0.6713\n",
            "Epoch 16/30\n",
            "428/428 [==============================] - 2s 6ms/step - loss: 0.5820 - accuracy: 0.6685 - val_loss: 0.5728 - val_accuracy: 0.6713\n",
            "Epoch 17/30\n",
            "428/428 [==============================] - 2s 6ms/step - loss: 0.5799 - accuracy: 0.6700 - val_loss: 0.5706 - val_accuracy: 0.6727\n",
            "Epoch 18/30\n",
            "428/428 [==============================] - 3s 6ms/step - loss: 0.5778 - accuracy: 0.6708 - val_loss: 0.5687 - val_accuracy: 0.6755\n",
            "Epoch 19/30\n",
            "428/428 [==============================] - 3s 6ms/step - loss: 0.5759 - accuracy: 0.6720 - val_loss: 0.5668 - val_accuracy: 0.6755\n",
            "Epoch 20/30\n",
            "428/428 [==============================] - 3s 6ms/step - loss: 0.5740 - accuracy: 0.6732 - val_loss: 0.5650 - val_accuracy: 0.6768\n",
            "Epoch 21/30\n",
            "428/428 [==============================] - 2s 6ms/step - loss: 0.5722 - accuracy: 0.6748 - val_loss: 0.5630 - val_accuracy: 0.6768\n",
            "Epoch 22/30\n",
            "428/428 [==============================] - 2s 5ms/step - loss: 0.5704 - accuracy: 0.6766 - val_loss: 0.5611 - val_accuracy: 0.6768\n",
            "Epoch 23/30\n",
            "428/428 [==============================] - 3s 6ms/step - loss: 0.5687 - accuracy: 0.6778 - val_loss: 0.5593 - val_accuracy: 0.6796\n",
            "Epoch 24/30\n",
            "428/428 [==============================] - 3s 6ms/step - loss: 0.5670 - accuracy: 0.6785 - val_loss: 0.5577 - val_accuracy: 0.6796\n",
            "Epoch 25/30\n",
            "428/428 [==============================] - 3s 6ms/step - loss: 0.5654 - accuracy: 0.6805 - val_loss: 0.5560 - val_accuracy: 0.6838\n",
            "Epoch 26/30\n",
            "428/428 [==============================] - 2s 6ms/step - loss: 0.5639 - accuracy: 0.6814 - val_loss: 0.5546 - val_accuracy: 0.6852\n",
            "Epoch 27/30\n",
            "428/428 [==============================] - 3s 6ms/step - loss: 0.5624 - accuracy: 0.6840 - val_loss: 0.5529 - val_accuracy: 0.6852\n",
            "Epoch 28/30\n",
            "428/428 [==============================] - 3s 6ms/step - loss: 0.5609 - accuracy: 0.6842 - val_loss: 0.5516 - val_accuracy: 0.6907\n",
            "Epoch 29/30\n",
            "428/428 [==============================] - 2s 6ms/step - loss: 0.5595 - accuracy: 0.6867 - val_loss: 0.5502 - val_accuracy: 0.6893\n",
            "Epoch 30/30\n",
            "428/428 [==============================] - 2s 6ms/step - loss: 0.5581 - accuracy: 0.6894 - val_loss: 0.5486 - val_accuracy: 0.6893\n"
          ]
        }
      ],
      "source": [
        "for weights in list_weights:\n",
        "  models.append(fit_model(X_train, y_train, X_valid, y_valid, len(word2id), weights, weights.shape[1]))"
      ]
    },
    {
      "cell_type": "code",
      "execution_count": 46,
      "metadata": {
        "id": "dWg1PDCEFwuC"
      },
      "outputs": [],
      "source": [
        "def show_model_plots(models):\n",
        "  for model in models:\n",
        "    plt.plot(model.history.history['accuracy'])\n",
        "    plt.plot(model.history.history['val_accuracy'])\n",
        "    plt.title('model accuracy')\n",
        "    plt.ylabel('accuracy')\n",
        "    plt.xlabel('epoch')\n",
        "    plt.legend(['train', 'val'], loc='upper left')\n",
        "    plt.show()"
      ]
    },
    {
      "cell_type": "code",
      "execution_count": 47,
      "metadata": {
        "id": "kQI5x_nJFbeo"
      },
      "outputs": [],
      "source": [
        "model = gensim.models.KeyedVectors.load_word2vec_format('model.bin', binary=True)"
      ]
    },
    {
      "cell_type": "code",
      "execution_count": 48,
      "metadata": {
        "id": "mWcJNElxLFut"
      },
      "outputs": [],
      "source": [
        "m = Mystem()\n",
        "\n",
        "def normalize_mystem(text):\n",
        "    tokens = []\n",
        "    norm_words = m.analyze(text)\n",
        "    for norm_word in norm_words:\n",
        "        if 'analysis' not in norm_word:\n",
        "            continue\n",
        "            \n",
        "        if not len(norm_word['analysis']):\n",
        "            lemma = norm_word['text']\n",
        "            pos = 'UNKN'\n",
        "        else:\n",
        "            lemma = norm_word[\"analysis\"][0][\"lex\"].lower().strip()\n",
        "            pos = norm_word[\"analysis\"][0][\"gr\"].split(',')[0]\n",
        "            pos = pos.split('=')[0].strip()\n",
        "        pos = mapping[pos]\n",
        "        tokens.append(lemma+'_'+pos)\n",
        "\n",
        "    return tokens"
      ]
    },
    {
      "cell_type": "code",
      "execution_count": 49,
      "metadata": {
        "id": "jk5lzUdXKhgk"
      },
      "outputs": [],
      "source": [
        "mapping = {}\n",
        "\n",
        "for line in open('ru-rnc.map.txt'):\n",
        "    ms, ud = line.strip('\\n').split()\n",
        "    mapping[ms] = ud"
      ]
    },
    {
      "cell_type": "code",
      "execution_count": 50,
      "metadata": {
        "id": "CN4J_nTwNKu8"
      },
      "outputs": [],
      "source": [
        "data['norm_data'] = data.comment.apply(normalize_mystem)\n",
        "word2id, id2word = preprocess_data([' '.join(sent) for sent in data['norm_data']], 5)\n",
        "X = make_X([' '.join(sent) for sent in data['norm_data']], word2id)"
      ]
    },
    {
      "cell_type": "code",
      "execution_count": 51,
      "metadata": {
        "id": "2ArCBn9nU2Y5",
        "colab": {
          "base_uri": "https://localhost:8080/"
        },
        "outputId": "e99e7985-b2a5-4243-dd2f-ba87f1d5bb86"
      },
      "outputs": [
        {
          "output_type": "stream",
          "name": "stderr",
          "text": [
            "/usr/local/lib/python3.7/dist-packages/ipykernel_launcher.py:10: DeprecationWarning: Call to deprecated `word_vec` (Use get_vector instead).\n",
            "  # Remove the CWD from sys.path while we load stuff.\n"
          ]
        }
      ],
      "source": [
        "weights = calculate_weights(word2id, len_dim, model.word_vec, False, True)"
      ]
    },
    {
      "cell_type": "code",
      "execution_count": 52,
      "metadata": {
        "id": "66vMYEcHVIJJ",
        "colab": {
          "base_uri": "https://localhost:8080/"
        },
        "outputId": "2d7710c5-537e-4198-f96a-ae65726c304a"
      },
      "outputs": [
        {
          "output_type": "stream",
          "name": "stdout",
          "text": [
            "Epoch 1/30\n",
            "428/428 [==============================] - 3s 7ms/step - loss: 0.6686 - accuracy: 0.6650 - val_loss: 0.6510 - val_accuracy: 0.6685\n",
            "Epoch 2/30\n",
            "428/428 [==============================] - 3s 6ms/step - loss: 0.6452 - accuracy: 0.6650 - val_loss: 0.6389 - val_accuracy: 0.6685\n",
            "Epoch 3/30\n",
            "428/428 [==============================] - 2s 6ms/step - loss: 0.6391 - accuracy: 0.6650 - val_loss: 0.6360 - val_accuracy: 0.6685\n",
            "Epoch 4/30\n",
            "428/428 [==============================] - 2s 5ms/step - loss: 0.6379 - accuracy: 0.6650 - val_loss: 0.6354 - val_accuracy: 0.6685\n",
            "Epoch 5/30\n",
            "428/428 [==============================] - 2s 5ms/step - loss: 0.6377 - accuracy: 0.6650 - val_loss: 0.6353 - val_accuracy: 0.6685\n",
            "Epoch 6/30\n",
            "428/428 [==============================] - 2s 6ms/step - loss: 0.6377 - accuracy: 0.6650 - val_loss: 0.6353 - val_accuracy: 0.6685\n",
            "Epoch 7/30\n",
            "428/428 [==============================] - 2s 6ms/step - loss: 0.6377 - accuracy: 0.6650 - val_loss: 0.6353 - val_accuracy: 0.6685\n",
            "Epoch 8/30\n",
            "428/428 [==============================] - 2s 6ms/step - loss: 0.6377 - accuracy: 0.6650 - val_loss: 0.6352 - val_accuracy: 0.6685\n",
            "Epoch 9/30\n",
            "428/428 [==============================] - 2s 6ms/step - loss: 0.6377 - accuracy: 0.6650 - val_loss: 0.6353 - val_accuracy: 0.6685\n",
            "Epoch 10/30\n",
            "428/428 [==============================] - 3s 6ms/step - loss: 0.6377 - accuracy: 0.6650 - val_loss: 0.6353 - val_accuracy: 0.6685\n",
            "Epoch 11/30\n",
            "428/428 [==============================] - 2s 6ms/step - loss: 0.6377 - accuracy: 0.6650 - val_loss: 0.6353 - val_accuracy: 0.6685\n",
            "Epoch 12/30\n",
            "428/428 [==============================] - 3s 6ms/step - loss: 0.6377 - accuracy: 0.6650 - val_loss: 0.6353 - val_accuracy: 0.6685\n",
            "Epoch 13/30\n",
            "428/428 [==============================] - 3s 6ms/step - loss: 0.6377 - accuracy: 0.6650 - val_loss: 0.6353 - val_accuracy: 0.6685\n",
            "Epoch 14/30\n",
            "428/428 [==============================] - 3s 6ms/step - loss: 0.6377 - accuracy: 0.6650 - val_loss: 0.6352 - val_accuracy: 0.6685\n",
            "Epoch 15/30\n",
            "428/428 [==============================] - 2s 6ms/step - loss: 0.6377 - accuracy: 0.6650 - val_loss: 0.6353 - val_accuracy: 0.6685\n",
            "Epoch 16/30\n",
            "428/428 [==============================] - 2s 5ms/step - loss: 0.6377 - accuracy: 0.6650 - val_loss: 0.6353 - val_accuracy: 0.6685\n",
            "Epoch 17/30\n",
            "428/428 [==============================] - 2s 5ms/step - loss: 0.6377 - accuracy: 0.6650 - val_loss: 0.6353 - val_accuracy: 0.6685\n",
            "Epoch 18/30\n",
            "428/428 [==============================] - 3s 6ms/step - loss: 0.6377 - accuracy: 0.6650 - val_loss: 0.6353 - val_accuracy: 0.6685\n",
            "Epoch 19/30\n",
            "428/428 [==============================] - 3s 6ms/step - loss: 0.6377 - accuracy: 0.6650 - val_loss: 0.6353 - val_accuracy: 0.6685\n",
            "Epoch 20/30\n",
            "428/428 [==============================] - 2s 5ms/step - loss: 0.6377 - accuracy: 0.6650 - val_loss: 0.6353 - val_accuracy: 0.6685\n",
            "Epoch 21/30\n",
            "428/428 [==============================] - 2s 6ms/step - loss: 0.6377 - accuracy: 0.6650 - val_loss: 0.6353 - val_accuracy: 0.6685\n",
            "Epoch 22/30\n",
            "428/428 [==============================] - 3s 6ms/step - loss: 0.6377 - accuracy: 0.6650 - val_loss: 0.6352 - val_accuracy: 0.6685\n",
            "Epoch 23/30\n",
            "428/428 [==============================] - 2s 5ms/step - loss: 0.6377 - accuracy: 0.6650 - val_loss: 0.6352 - val_accuracy: 0.6685\n",
            "Epoch 24/30\n",
            "428/428 [==============================] - 2s 6ms/step - loss: 0.6377 - accuracy: 0.6650 - val_loss: 0.6352 - val_accuracy: 0.6685\n",
            "Epoch 25/30\n",
            "428/428 [==============================] - 2s 6ms/step - loss: 0.6377 - accuracy: 0.6650 - val_loss: 0.6353 - val_accuracy: 0.6685\n",
            "Epoch 26/30\n",
            "428/428 [==============================] - 3s 6ms/step - loss: 0.6377 - accuracy: 0.6650 - val_loss: 0.6352 - val_accuracy: 0.6685\n",
            "Epoch 27/30\n",
            "428/428 [==============================] - 3s 6ms/step - loss: 0.6377 - accuracy: 0.6650 - val_loss: 0.6352 - val_accuracy: 0.6685\n",
            "Epoch 28/30\n",
            "428/428 [==============================] - 2s 6ms/step - loss: 0.6377 - accuracy: 0.6650 - val_loss: 0.6352 - val_accuracy: 0.6685\n",
            "Epoch 29/30\n",
            "428/428 [==============================] - 2s 6ms/step - loss: 0.6377 - accuracy: 0.6650 - val_loss: 0.6352 - val_accuracy: 0.6685\n",
            "Epoch 30/30\n",
            "428/428 [==============================] - 2s 6ms/step - loss: 0.6377 - accuracy: 0.6650 - val_loss: 0.6352 - val_accuracy: 0.6685\n"
          ]
        }
      ],
      "source": [
        "models.append(fit_model(X_train, y_train, X_valid, y_valid, len(word2id), weights, weights.shape[1]))"
      ]
    },
    {
      "cell_type": "code",
      "execution_count": 53,
      "metadata": {
        "id": "BO6F_4ZhHW2T",
        "colab": {
          "base_uri": "https://localhost:8080/",
          "height": 1000
        },
        "outputId": "79f08cdf-2a68-48c6-f862-c8d51f8b56a3"
      },
      "outputs": [
        {
          "output_type": "display_data",
          "data": {
            "image/png": "[encoded data removed]",
            "text/plain": [
              "<Figure size 432x288 with 1 Axes>"
            ]
          },
          "metadata": {
            "needs_background": "light"
          }
        },
        {
          "output_type": "display_data",
          "data": {
            "image/png": "[encoded data removed]",
            "text/plain": [
              "<Figure size 432x288 with 1 Axes>"
            ]
          },
          "metadata": {
            "needs_background": "light"
          }
        },
        {
          "output_type": "display_data",
          "data": {
            "image/png": "[encoded data removed]",
            "text/plain": [
              "<Figure size 432x288 with 1 Axes>"
            ]
          },
          "metadata": {
            "needs_background": "light"
          }
        },
        {
          "output_type": "display_data",
          "data": {
            "image/png": "[encoded data removed]",
            "text/plain": [
              "<Figure size 432x288 with 1 Axes>"
            ]
          },
          "metadata": {
            "needs_background": "light"
          }
        },
        {
          "output_type": "display_data",
          "data": {
            "image/png": "[encoded data removed]",
            "text/plain": [
              "<Figure size 432x288 with 1 Axes>"
            ]
          },
          "metadata": {
            "needs_background": "light"
          }
        }
      ],
      "source": [
        "show_model_plots(models)"
      ]
    },
    {
      "cell_type": "markdown",
      "source": [
        "1 график - skipgram,\n",
        "\n",
        "2 график - cbow,\n",
        "\n",
        "3 график - fasttext,\n",
        "\n",
        "4 график - word2vec\n",
        "\n",
        "Судя по графикам наилучшим образом себя показывает модель fasttext. Вероятно, чтобы увеличить качество моделей, нужно настроить параметры другим образом и к датасету с вики добавить датасет с комментариями. В таком случае качество может повыситься на несколько раз."
      ],
      "metadata": {
        "id": "ZbRb89v_zzmA"
      }
    }
  ],
  "metadata": {
    "colab": {
      "collapsed_sections": [],
      "name": "CompLing_HW6.ipynb",
      "provenance": []
    },
    "kernelspec": {
      "display_name": "Python 3",
      "name": "python3"
    },
    "language_info": {
      "name": "python"
    }
  },
  "nbformat": 4,
  "nbformat_minor": 0
}