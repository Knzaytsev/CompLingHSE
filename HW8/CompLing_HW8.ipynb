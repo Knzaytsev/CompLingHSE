{
  "cells": [
    {
      "cell_type": "markdown",
      "id": "1bf6f873",
      "metadata": {
        "id": "1bf6f873"
      },
      "source": [
        "# Домашнее задание № 8"
      ]
    },
    {
      "cell_type": "markdown",
      "id": "3b4bd487",
      "metadata": {
        "id": "3b4bd487"
      },
      "source": [
        "## Задание 1 (4 балла) "
      ]
    },
    {
      "cell_type": "markdown",
      "id": "bf4c4f87",
      "metadata": {
        "id": "bf4c4f87"
      },
      "source": [
        "Обучите 8 моделей для задачи классификации текста (датасет - lenta_40k ). А именно:  \n",
        "1) модель с 1 GRU слоем;   \n",
        "2) модель с 1 LSTM слоем    \n",
        "3) модель с 1 GRU и 1 LSTM слоем  \n",
        "4) модель с 1 BIGRU и 2 LSTM слоями  \n",
        "5) модель с 5 GRU слоями и 3 LSTM слоями  \n",
        "6) модель 1 BIGRU и 1 BILSTM слоями, причем так чтобы модели для forward и backward прохода отличались   \n",
        "7) модель, где последовательно идут слои: LSTM, GRU, BILSTM, BIGRU, GRU, LSTM  \n",
        "8) модель с 50 любыми рекуррентными слоями  \n",
        "\n",
        "\n",
        "Параметр units и размер эмбединга можете задать любой. Оцените качество каждой модели и определите победителя."
      ]
    },
    {
      "cell_type": "code",
      "source": [
        "!pip install gensim --upgrade"
      ],
      "metadata": {
        "colab": {
          "base_uri": "https://localhost:8080/"
        },
        "id": "2OSxcw6_d2Gl",
        "outputId": "ce3c36ee-d46b-44a0-e3dd-9b49866e2efc"
      },
      "id": "2OSxcw6_d2Gl",
      "execution_count": 1,
      "outputs": [
        {
          "output_type": "stream",
          "name": "stdout",
          "text": [
            "Requirement already satisfied: gensim in /usr/local/lib/python3.7/dist-packages (3.6.0)\n",
            "Collecting gensim\n",
            "  Downloading gensim-4.1.2-cp37-cp37m-manylinux_2_12_x86_64.manylinux2010_x86_64.whl (24.1 MB)\n",
            "\u001b[K     |████████████████████████████████| 24.1 MB 1.6 MB/s \n",
            "\u001b[?25hRequirement already satisfied: scipy>=0.18.1 in /usr/local/lib/python3.7/dist-packages (from gensim) (1.4.1)\n",
            "Requirement already satisfied: numpy>=1.17.0 in /usr/local/lib/python3.7/dist-packages (from gensim) (1.21.5)\n",
            "Requirement already satisfied: smart-open>=1.8.1 in /usr/local/lib/python3.7/dist-packages (from gensim) (5.2.1)\n",
            "Installing collected packages: gensim\n",
            "  Attempting uninstall: gensim\n",
            "    Found existing installation: gensim 3.6.0\n",
            "    Uninstalling gensim-3.6.0:\n",
            "      Successfully uninstalled gensim-3.6.0\n",
            "Successfully installed gensim-4.1.2\n"
          ]
        }
      ]
    },
    {
      "cell_type": "code",
      "execution_count": 2,
      "id": "83db6635",
      "metadata": {
        "id": "83db6635"
      },
      "outputs": [],
      "source": [
        "import tensorflow as tf"
      ]
    },
    {
      "cell_type": "code",
      "execution_count": 3,
      "id": "50362f6e",
      "metadata": {
        "id": "50362f6e"
      },
      "outputs": [],
      "source": [
        "import pandas as pd\n",
        "import numpy as np\n",
        "from string import punctuation\n",
        "from sklearn.model_selection import train_test_split\n",
        "from collections import Counter\n",
        "from IPython.display import Image\n",
        "from IPython.core.display import HTML \n",
        "import matplotlib.pyplot as plt\n",
        "%matplotlib inline"
      ]
    },
    {
      "cell_type": "code",
      "execution_count": 4,
      "id": "b6676dab",
      "metadata": {
        "id": "b6676dab",
        "colab": {
          "base_uri": "https://localhost:8080/"
        },
        "outputId": "cf2c9c27-d359-4676-a568-e563d5703ef7"
      },
      "outputs": [
        {
          "output_type": "stream",
          "name": "stdout",
          "text": [
            "--2022-03-02 13:08:24--  https://github.com/mannefedov/compling_nlp_hse_course/raw/master/notebooks/rnn_ner/lenta_40k.csv.zip\n",
            "Resolving github.com (github.com)... 140.82.121.3\n",
            "Connecting to github.com (github.com)|140.82.121.3|:443... connected.\n",
            "HTTP request sent, awaiting response... 302 Found\n",
            "Location: https://raw.githubusercontent.com/mannefedov/compling_nlp_hse_course/master/notebooks/rnn_ner/lenta_40k.csv.zip [following]\n",
            "--2022-03-02 13:08:24--  https://raw.githubusercontent.com/mannefedov/compling_nlp_hse_course/master/notebooks/rnn_ner/lenta_40k.csv.zip\n",
            "Resolving raw.githubusercontent.com (raw.githubusercontent.com)... 185.199.108.133, 185.199.109.133, 185.199.110.133, ...\n",
            "Connecting to raw.githubusercontent.com (raw.githubusercontent.com)|185.199.108.133|:443... connected.\n",
            "HTTP request sent, awaiting response... 200 OK\n",
            "Length: 30658975 (29M) [application/zip]\n",
            "Saving to: ‘lenta_40k.csv.zip’\n",
            "\n",
            "lenta_40k.csv.zip   100%[===================>]  29.24M  --.-KB/s    in 0.1s    \n",
            "\n",
            "2022-03-02 13:08:26 (200 MB/s) - ‘lenta_40k.csv.zip’ saved [30658975/30658975]\n",
            "\n"
          ]
        }
      ],
      "source": [
        "!wget https://github.com/mannefedov/compling_nlp_hse_course/raw/master/notebooks/rnn_ner/lenta_40k.csv.zip"
      ]
    },
    {
      "cell_type": "code",
      "source": [
        "data = pd.read_csv('lenta_40k.csv.zip')"
      ],
      "metadata": {
        "id": "aM9c_Y3HXnga"
      },
      "id": "aM9c_Y3HXnga",
      "execution_count": 5,
      "outputs": []
    },
    {
      "cell_type": "code",
      "source": [
        "def preprocess(text):\n",
        "    tokens = text.lower().split()\n",
        "    tokens = [token.strip(punctuation) for token in tokens]\n",
        "    return tokens"
      ],
      "metadata": {
        "id": "8yqI_DBBXxzM"
      },
      "id": "8yqI_DBBXxzM",
      "execution_count": 6,
      "outputs": []
    },
    {
      "cell_type": "code",
      "source": [
        "from tensorflow.keras import backend as K\n",
        "def f1(y_true, y_pred):\n",
        "    def recall(y_true, y_pred):\n",
        "        \"\"\"Recall metric.\n",
        "\n",
        "        Only computes a batch-wise average of recall.\n",
        "\n",
        "        Computes the recall, a metric for multi-label classification of\n",
        "        how many relevant items are selected.\n",
        "        \"\"\"\n",
        "        true_positives = K.sum(K.round(K.clip(y_true * y_pred, 0, 1)))\n",
        "        possible_positives = K.sum(K.round(K.clip(y_true, 0, 1)))\n",
        "        recall = true_positives / (possible_positives + K.epsilon())\n",
        "        return recall\n",
        "\n",
        "    def precision(y_true, y_pred):\n",
        "        \"\"\"Precision metric.\n",
        "\n",
        "        Only computes a batch-wise average of precision.\n",
        "\n",
        "        Computes the precision, a metric for multi-label classification of\n",
        "        how many selected items are relevant.\n",
        "        \"\"\"\n",
        "        true_positives = K.sum(K.round(K.clip(y_true * y_pred, 0, 1)))\n",
        "        predicted_positives = K.sum(K.round(K.clip(y_pred, 0, 1)))\n",
        "        precision = true_positives / (predicted_positives + K.epsilon())\n",
        "        return precision\n",
        "    precision = precision(y_true, y_pred)\n",
        "    recall = recall(y_true, y_pred)\n",
        "    return 2*((precision*recall)/(precision+recall+K.epsilon()))"
      ],
      "metadata": {
        "id": "LbUnSS5GX1AR"
      },
      "id": "LbUnSS5GX1AR",
      "execution_count": 7,
      "outputs": []
    },
    {
      "cell_type": "code",
      "source": [
        "# словарь\n",
        "vocab = Counter()\n",
        "\n",
        "for text in data.text:\n",
        "    vocab.update(preprocess(text))"
      ],
      "metadata": {
        "id": "Px4aSAnGYBaX"
      },
      "id": "Px4aSAnGYBaX",
      "execution_count": 8,
      "outputs": []
    },
    {
      "cell_type": "code",
      "source": [
        "# отфильтрованный словарь\n",
        "filtered_vocab = set()\n",
        "\n",
        "for word in vocab:\n",
        "    if vocab[word] > 30:\n",
        "        filtered_vocab.add(word)"
      ],
      "metadata": {
        "id": "CbjtSc6OYDlI"
      },
      "id": "CbjtSc6OYDlI",
      "execution_count": 9,
      "outputs": []
    },
    {
      "cell_type": "code",
      "source": [
        "# индексируем слова\n",
        "word2id = {'PAD':0, 'UNK':1}\n",
        "\n",
        "for word in filtered_vocab:\n",
        "    word2id[word] = len(word2id)"
      ],
      "metadata": {
        "id": "fc7Bx052YFaZ"
      },
      "id": "fc7Bx052YFaZ",
      "execution_count": 10,
      "outputs": []
    },
    {
      "cell_type": "code",
      "source": [
        "id2word = {i:word for word, i in word2id.items()}"
      ],
      "metadata": {
        "id": "vRJVbI9wYG_L"
      },
      "id": "vRJVbI9wYG_L",
      "execution_count": 11,
      "outputs": []
    },
    {
      "cell_type": "code",
      "source": [
        "# переводим тексты в последовательности индексов\n",
        "X = []\n",
        "\n",
        "for text in data.text:\n",
        "    tokens = preprocess(text)\n",
        "    ids = [word2id.get(token, 1) for token in tokens]\n",
        "    X.append(ids)"
      ],
      "metadata": {
        "id": "pseloy04YIrQ"
      },
      "id": "pseloy04YIrQ",
      "execution_count": 12,
      "outputs": []
    },
    {
      "cell_type": "code",
      "source": [
        "MEAN_LEN = np.median([len(x) for x in X])"
      ],
      "metadata": {
        "id": "DGkq62auYPf_"
      },
      "id": "DGkq62auYPf_",
      "execution_count": 13,
      "outputs": []
    },
    {
      "cell_type": "code",
      "source": [
        "MAX_LEN = int(MEAN_LEN + 30)"
      ],
      "metadata": {
        "id": "z0Okb9KUYRXm"
      },
      "id": "z0Okb9KUYRXm",
      "execution_count": 14,
      "outputs": []
    },
    {
      "cell_type": "code",
      "source": [
        "# паддинг\n",
        "X = tf.keras.preprocessing.sequence.pad_sequences(X, maxlen=MAX_LEN)"
      ],
      "metadata": {
        "id": "ULv3Zd3ZYV6r"
      },
      "id": "ULv3Zd3ZYV6r",
      "execution_count": 15,
      "outputs": []
    },
    {
      "cell_type": "code",
      "source": [
        "id2label = {i:label for i, label in enumerate(set(data.topic.values))}\n",
        "label2id = {l:i for i, l in id2label.items()}"
      ],
      "metadata": {
        "id": "vRIr3Sm2YWS_"
      },
      "id": "vRIr3Sm2YWS_",
      "execution_count": 16,
      "outputs": []
    },
    {
      "cell_type": "code",
      "source": [
        "y = tf.keras.utils.to_categorical([label2id[label] for label in data.topic.values])"
      ],
      "metadata": {
        "id": "zAJ2_kEnYYV_"
      },
      "id": "zAJ2_kEnYYV_",
      "execution_count": 17,
      "outputs": []
    },
    {
      "cell_type": "code",
      "source": [
        "X_train, X_valid, y_train, y_valid = train_test_split(X, y, test_size=0.05, stratify=y)"
      ],
      "metadata": {
        "id": "MZRKsNHSYZ0y"
      },
      "id": "MZRKsNHSYZ0y",
      "execution_count": 18,
      "outputs": []
    },
    {
      "cell_type": "code",
      "source": [
        "import random\n",
        "\n",
        "def make_random_model():\n",
        "  models = {\n",
        "      0: tf.keras.layers.GRU,\n",
        "      1: tf.keras.layers.LSTM,\n",
        "      #2: (tf.keras.layers.Bidirectional, [tf.keras.layers.LSTM]),\n",
        "      #3: (tf.keras.layers.Bidirectional, [tf.keras.layers.GRU]),\n",
        "      #4: (tf.keras.layers.Bidirectional, [tf.keras.layers.GRU, tf.keras.layers.LSTM]),\n",
        "      #5: (tf.keras.layers.Bidirectional, [tf.keras.layers.LSTM, tf.keras.layers.GRU]),\n",
        "      #6: (tf.keras.layers.Bidirectional, [tf.keras.layers.GRU, tf.keras.layers.GRU]),\n",
        "      #7: (tf.keras.layers.Bidirectional, [tf.keras.layers.LSTM, tf.keras.layers.LSTM])\n",
        "  }\n",
        "  model_index = random.randint(0, len(models) - 1)\n",
        "  return models[model_index]"
      ],
      "metadata": {
        "id": "mjA4-Nu8bXSa"
      },
      "id": "mjA4-Nu8bXSa",
      "execution_count": 19,
      "outputs": []
    },
    {
      "cell_type": "code",
      "source": [
        "tasks = {\n",
        "    '1': [tf.keras.layers.GRU],\n",
        "    '2': [tf.keras.layers.LSTM],\n",
        "    '3': [tf.keras.layers.GRU, tf.keras.layers.LSTM],\n",
        "    '4': [(tf.keras.layers.Bidirectional, [tf.keras.layers.LSTM])] + [tf.keras.layers.LSTM] * 2,\n",
        "    '5': [tf.keras.layers.GRU] * 5 + [tf.keras.layers.LSTM] * 3,\n",
        "    '6': [(tf.keras.layers.Bidirectional, [tf.keras.layers.GRU, tf.keras.layers.LSTM]), (tf.keras.layers.Bidirectional, [tf.keras.layers.LSTM, tf.keras.layers.GRU])],\n",
        "    '7': [tf.keras.layers.LSTM, tf.keras.layers.GRU, (tf.keras.layers.Bidirectional, [tf.keras.layers.LSTM]),\n",
        "                                             (tf.keras.layers.Bidirectional, [tf.keras.layers.GRU]), tf.keras.layers.GRU, tf.keras.layers.LSTM],\n",
        "    '8': [make_random_model() for i in range(50)],\n",
        "}"
      ],
      "metadata": {
        "id": "B7dee75ubJiT"
      },
      "id": "B7dee75ubJiT",
      "execution_count": 20,
      "outputs": []
    },
    {
      "cell_type": "code",
      "source": [
        "def show_model(model):\n",
        "  print(model.history.history.keys())\n",
        "  # summarize history for accuracy\n",
        "  plt.plot(model.history.history['f1'])\n",
        "  plt.plot(model.history.history['val_f1'])\n",
        "  plt.title('model f1')\n",
        "  plt.ylabel('f1')\n",
        "  plt.xlabel('epoch')\n",
        "  plt.legend(['train', 'val'], loc='upper left')\n",
        "  plt.show()"
      ],
      "metadata": {
        "id": "ONg4WmNrZeCs"
      },
      "id": "ONg4WmNrZeCs",
      "execution_count": 21,
      "outputs": []
    },
    {
      "cell_type": "code",
      "source": [
        "def make_model(layers, len_vocab, len_labels):\n",
        "  sequences = len(layers) > 1\n",
        "\n",
        "  inputs = tf.keras.layers.Input(shape=(MAX_LEN,))\n",
        "  embeddings = tf.keras.layers.Embedding(input_dim=len_vocab, output_dim=60)(inputs, )\n",
        "\n",
        "  rnns = [embeddings]\n",
        "\n",
        "  for i, layer in enumerate(layers):\n",
        "    if type(layer) is tuple:\n",
        "      bi = layer[0]\n",
        "      bi_layers = layer[1]\n",
        "      forward = bi_layers[0]\n",
        "      backward = bi_layers[1] if len(bi_layers) == 2 else None\n",
        "      if backward == None:\n",
        "        rnn = bi(forward(256, return_sequences=sequences))(rnns[i])\n",
        "      else:\n",
        "        rnn = bi(forward(256, return_sequences=sequences),\n",
        "                 backward_layer=backward(256, return_sequences=sequences, go_backwards=True))(rnns[i])\n",
        "    else:\n",
        "      rnn = layer(256, return_sequences=sequences)(rnns[i])\n",
        "    rnns.append(rnn)\n",
        "    sequences = i != len(layers) - 2\n",
        "  \n",
        "  dense = rnns[-1]\n",
        "  if len(layers) > 1:\n",
        "    dense = tf.keras.layers.Dense(64, activation='relu')(dense)\n",
        "  # rnn = tf.keras.layers.SimpleRNN(128, return_sequences=False)(embeddings)\n",
        "  #rnn = tf.keras.layers.LSTM(128, return_sequences=False)(embeddings)\n",
        "  #rnn = tf.keras.layers.GRU(128, return_sequences=False)(embeddings)\n",
        "\n",
        "  outputs = tf.keras.layers.Dense(len_labels, activation='softmax')(dense)\n",
        "\n",
        "  model = tf.keras.Model(inputs=inputs, outputs=outputs)\n",
        "  optimizer = tf.keras.optimizers.Adam(learning_rate=0.001)\n",
        "  model.compile(optimizer=optimizer,\n",
        "                loss='categorical_crossentropy',\n",
        "                metrics=[f1, tf.keras.metrics.RecallAtPrecision(0.8, name='rec@prec')])\n",
        "  \n",
        "  return model"
      ],
      "metadata": {
        "id": "kiNnZF01bQiH"
      },
      "id": "kiNnZF01bQiH",
      "execution_count": 22,
      "outputs": []
    },
    {
      "cell_type": "code",
      "source": [
        "models = [make_model(model, len(word2id), len(label2id)) for model in tasks.values()]"
      ],
      "metadata": {
        "id": "2JgqO9iveniI"
      },
      "id": "2JgqO9iveniI",
      "execution_count": 23,
      "outputs": []
    },
    {
      "cell_type": "code",
      "source": [
        "for i, model in enumerate(models[:4]):\n",
        "  model.fit(X_train, y_train, \n",
        "          validation_data=(X_valid, y_valid),\n",
        "          batch_size=1000,\n",
        "          epochs=15)"
      ],
      "metadata": {
        "colab": {
          "base_uri": "https://localhost:8080/"
        },
        "id": "RF8WEls8e_5f",
        "outputId": "94284eff-3589-443e-9a5d-3f57e0389f7e"
      },
      "id": "RF8WEls8e_5f",
      "execution_count": 24,
      "outputs": [
        {
          "output_type": "stream",
          "name": "stdout",
          "text": [
            "Epoch 1/15\n",
            "43/43 [==============================] - 21s 313ms/step - loss: 2.4544 - f1: 0.0000e+00 - rec@prec: 0.0000e+00 - val_loss: 2.2623 - val_f1: 0.0000e+00 - val_rec@prec: 0.0018\n",
            "Epoch 2/15\n",
            "43/43 [==============================] - 13s 293ms/step - loss: 2.2665 - f1: 0.0059 - rec@prec: 0.0000e+00 - val_loss: 2.1643 - val_f1: 0.0000e+00 - val_rec@prec: 0.0036\n",
            "Epoch 3/15\n",
            "43/43 [==============================] - 13s 297ms/step - loss: 1.9612 - f1: 0.0799 - rec@prec: 0.0203 - val_loss: 1.8215 - val_f1: 0.1225 - val_rec@prec: 0.0491\n",
            "Epoch 4/15\n",
            "43/43 [==============================] - 13s 297ms/step - loss: 1.5543 - f1: 0.3271 - rec@prec: 0.1581 - val_loss: 1.5508 - val_f1: 0.3706 - val_rec@prec: 0.1727\n",
            "Epoch 5/15\n",
            "43/43 [==============================] - 13s 299ms/step - loss: 1.3056 - f1: 0.4830 - rec@prec: 0.3096 - val_loss: 1.5906 - val_f1: 0.4242 - val_rec@prec: 0.1826\n",
            "Epoch 6/15\n",
            "43/43 [==============================] - 13s 301ms/step - loss: 1.0907 - f1: 0.5989 - rec@prec: 0.4905 - val_loss: 1.3702 - val_f1: 0.5398 - val_rec@prec: 0.3233\n",
            "Epoch 7/15\n",
            "43/43 [==============================] - 13s 301ms/step - loss: 0.8068 - f1: 0.7335 - rec@prec: 0.7072 - val_loss: 1.2835 - val_f1: 0.6187 - val_rec@prec: 0.4617\n",
            "Epoch 8/15\n",
            "43/43 [==============================] - 13s 301ms/step - loss: 0.6083 - f1: 0.8102 - rec@prec: 0.8311 - val_loss: 1.2969 - val_f1: 0.6339 - val_rec@prec: 0.5149\n",
            "Epoch 9/15\n",
            "43/43 [==============================] - 13s 300ms/step - loss: 0.4596 - f1: 0.8621 - rec@prec: 0.9004 - val_loss: 1.3193 - val_f1: 0.6495 - val_rec@prec: 0.5203\n",
            "Epoch 10/15\n",
            "43/43 [==============================] - 13s 301ms/step - loss: 0.3423 - f1: 0.9001 - rec@prec: 0.9445 - val_loss: 1.4304 - val_f1: 0.6476 - val_rec@prec: 0.4937\n",
            "Epoch 11/15\n",
            "43/43 [==============================] - 13s 302ms/step - loss: 0.2681 - f1: 0.9231 - rec@prec: 0.9663 - val_loss: 1.5780 - val_f1: 0.6478 - val_rec@prec: 0.4878\n",
            "Epoch 12/15\n",
            "43/43 [==============================] - 13s 297ms/step - loss: 0.2206 - f1: 0.9386 - rec@prec: 0.9776 - val_loss: 1.6425 - val_f1: 0.6433 - val_rec@prec: 0.4977\n",
            "Epoch 13/15\n",
            "43/43 [==============================] - 13s 303ms/step - loss: 0.1685 - f1: 0.9550 - rec@prec: 0.9873 - val_loss: 1.8288 - val_f1: 0.6336 - val_rec@prec: 0.4603\n",
            "Epoch 14/15\n",
            "43/43 [==============================] - 13s 299ms/step - loss: 0.1344 - f1: 0.9665 - rec@prec: 0.9918 - val_loss: 1.8803 - val_f1: 0.6501 - val_rec@prec: 0.4905\n",
            "Epoch 15/15\n",
            "43/43 [==============================] - 13s 301ms/step - loss: 0.1034 - f1: 0.9760 - rec@prec: 0.9946 - val_loss: 1.9363 - val_f1: 0.6445 - val_rec@prec: 0.4959\n",
            "Epoch 1/15\n",
            "43/43 [==============================] - 17s 343ms/step - loss: 2.4196 - f1: 0.0000e+00 - rec@prec: 0.0000e+00 - val_loss: 2.3100 - val_f1: 0.0000e+00 - val_rec@prec: 9.0171e-04\n",
            "Epoch 2/15\n",
            "43/43 [==============================] - 14s 324ms/step - loss: 2.2648 - f1: 1.3930e-04 - rec@prec: 4.7463e-04 - val_loss: 2.0336 - val_f1: 0.0046 - val_rec@prec: 0.0090\n",
            "Epoch 3/15\n",
            "43/43 [==============================] - 14s 325ms/step - loss: 1.9352 - f1: 0.1194 - rec@prec: 0.0503 - val_loss: 1.7304 - val_f1: 0.2432 - val_rec@prec: 0.1456\n",
            "Epoch 4/15\n",
            "43/43 [==============================] - 14s 323ms/step - loss: 1.4546 - f1: 0.4080 - rec@prec: 0.2309 - val_loss: 1.4253 - val_f1: 0.4772 - val_rec@prec: 0.2340\n",
            "Epoch 5/15\n",
            "43/43 [==============================] - 14s 327ms/step - loss: 1.1969 - f1: 0.6029 - rec@prec: 0.4605 - val_loss: 1.3109 - val_f1: 0.5597 - val_rec@prec: 0.4062\n",
            "Epoch 6/15\n",
            "43/43 [==============================] - 14s 326ms/step - loss: 0.9653 - f1: 0.7004 - rec@prec: 0.6374 - val_loss: 1.2526 - val_f1: 0.6187 - val_rec@prec: 0.4797\n",
            "Epoch 7/15\n",
            "43/43 [==============================] - 14s 327ms/step - loss: 0.8385 - f1: 0.7427 - rec@prec: 0.7180 - val_loss: 1.1240 - val_f1: 0.6598 - val_rec@prec: 0.5401\n",
            "Epoch 8/15\n",
            "43/43 [==============================] - 14s 323ms/step - loss: 0.7055 - f1: 0.7952 - rec@prec: 0.8021 - val_loss: 1.1984 - val_f1: 0.6443 - val_rec@prec: 0.5325\n",
            "Epoch 9/15\n",
            "43/43 [==============================] - 14s 321ms/step - loss: 0.6549 - f1: 0.8118 - rec@prec: 0.8252 - val_loss: 1.1488 - val_f1: 0.6742 - val_rec@prec: 0.5753\n",
            "Epoch 10/15\n",
            "43/43 [==============================] - 14s 327ms/step - loss: 0.5580 - f1: 0.8433 - rec@prec: 0.8675 - val_loss: 1.1369 - val_f1: 0.6673 - val_rec@prec: 0.5564\n",
            "Epoch 11/15\n",
            "43/43 [==============================] - 14s 329ms/step - loss: 0.5641 - f1: 0.8324 - rec@prec: 0.8612 - val_loss: 1.1751 - val_f1: 0.6739 - val_rec@prec: 0.5852\n",
            "Epoch 12/15\n",
            "43/43 [==============================] - 14s 324ms/step - loss: 0.4335 - f1: 0.8794 - rec@prec: 0.9160 - val_loss: 1.2225 - val_f1: 0.6729 - val_rec@prec: 0.5789\n",
            "Epoch 13/15\n",
            "43/43 [==============================] - 14s 323ms/step - loss: 0.3592 - f1: 0.9015 - rec@prec: 0.9405 - val_loss: 1.2385 - val_f1: 0.6905 - val_rec@prec: 0.5956\n",
            "Epoch 14/15\n",
            "43/43 [==============================] - 14s 326ms/step - loss: 0.2929 - f1: 0.9190 - rec@prec: 0.9598 - val_loss: 1.3064 - val_f1: 0.6764 - val_rec@prec: 0.5816\n",
            "Epoch 15/15\n",
            "43/43 [==============================] - 14s 327ms/step - loss: 0.2551 - f1: 0.9317 - rec@prec: 0.9687 - val_loss: 1.3770 - val_f1: 0.6823 - val_rec@prec: 0.5541\n",
            "Epoch 1/15\n",
            "43/43 [==============================] - 36s 748ms/step - loss: 2.4261 - f1: 0.0000e+00 - rec@prec: 0.0000e+00 - val_loss: 2.2757 - val_f1: 0.0000e+00 - val_rec@prec: 0.0000e+00\n",
            "Epoch 2/15\n",
            "43/43 [==============================] - 31s 719ms/step - loss: 2.3139 - f1: 0.0061 - rec@prec: 0.0000e+00 - val_loss: 2.2938 - val_f1: 0.0000e+00 - val_rec@prec: 0.0000e+00\n",
            "Epoch 3/15\n",
            "43/43 [==============================] - 31s 725ms/step - loss: 2.2214 - f1: 0.0125 - rec@prec: 4.7463e-05 - val_loss: 2.1728 - val_f1: 0.0077 - val_rec@prec: 0.0000e+00\n",
            "Epoch 4/15\n",
            "43/43 [==============================] - 31s 728ms/step - loss: 2.0757 - f1: 0.0028 - rec@prec: 2.8478e-04 - val_loss: 1.9993 - val_f1: 0.0013 - val_rec@prec: 0.0054\n",
            "Epoch 5/15\n",
            "43/43 [==============================] - 31s 726ms/step - loss: 1.8751 - f1: 0.0492 - rec@prec: 0.0087 - val_loss: 1.8598 - val_f1: 0.0979 - val_rec@prec: 0.0054\n",
            "Epoch 6/15\n",
            "43/43 [==============================] - 31s 729ms/step - loss: 1.6312 - f1: 0.2496 - rec@prec: 0.0856 - val_loss: 1.6150 - val_f1: 0.3437 - val_rec@prec: 0.1537\n",
            "Epoch 7/15\n",
            "43/43 [==============================] - 31s 724ms/step - loss: 1.3951 - f1: 0.4389 - rec@prec: 0.2342 - val_loss: 1.6114 - val_f1: 0.4468 - val_rec@prec: 0.2308\n",
            "Epoch 8/15\n",
            "43/43 [==============================] - 31s 724ms/step - loss: 1.2501 - f1: 0.5413 - rec@prec: 0.3664 - val_loss: 1.5053 - val_f1: 0.4831 - val_rec@prec: 0.2755\n",
            "Epoch 9/15\n",
            "43/43 [==============================] - 31s 726ms/step - loss: 1.1252 - f1: 0.6181 - rec@prec: 0.4809 - val_loss: 1.4367 - val_f1: 0.5402 - val_rec@prec: 0.3593\n",
            "Epoch 10/15\n",
            "43/43 [==============================] - 31s 724ms/step - loss: 0.9884 - f1: 0.6772 - rec@prec: 0.5886 - val_loss: 1.3380 - val_f1: 0.5770 - val_rec@prec: 0.3922\n",
            "Epoch 11/15\n",
            "43/43 [==============================] - 31s 721ms/step - loss: 0.8387 - f1: 0.7358 - rec@prec: 0.7026 - val_loss: 1.3119 - val_f1: 0.6192 - val_rec@prec: 0.4666\n",
            "Epoch 12/15\n",
            "43/43 [==============================] - 31s 721ms/step - loss: 0.7087 - f1: 0.7921 - rec@prec: 0.7957 - val_loss: 1.2547 - val_f1: 0.6357 - val_rec@prec: 0.4766\n",
            "Epoch 13/15\n",
            "43/43 [==============================] - 31s 721ms/step - loss: 0.6051 - f1: 0.8265 - rec@prec: 0.8474 - val_loss: 1.2766 - val_f1: 0.6457 - val_rec@prec: 0.4991\n",
            "Epoch 14/15\n",
            "43/43 [==============================] - 31s 723ms/step - loss: 0.5217 - f1: 0.8564 - rec@prec: 0.8827 - val_loss: 1.3327 - val_f1: 0.6449 - val_rec@prec: 0.4811\n",
            "Epoch 15/15\n",
            "43/43 [==============================] - 31s 722ms/step - loss: 0.4662 - f1: 0.8681 - rec@prec: 0.9040 - val_loss: 1.3311 - val_f1: 0.6350 - val_rec@prec: 0.4982\n",
            "Epoch 1/15\n",
            "43/43 [==============================] - 78s 2s/step - loss: 2.4135 - f1: 0.0000e+00 - rec@prec: 0.0000e+00 - val_loss: 2.3274 - val_f1: 0.0000e+00 - val_rec@prec: 0.0000e+00\n",
            "Epoch 2/15\n",
            "43/43 [==============================] - 70s 2s/step - loss: 2.3364 - f1: 0.0000e+00 - rec@prec: 0.0000e+00 - val_loss: 2.2956 - val_f1: 0.0000e+00 - val_rec@prec: 0.0000e+00\n",
            "Epoch 3/15\n",
            "43/43 [==============================] - 70s 2s/step - loss: 2.0935 - f1: 0.0064 - rec@prec: 0.0036 - val_loss: 1.8987 - val_f1: 0.0000e+00 - val_rec@prec: 0.0000e+00\n",
            "Epoch 4/15\n",
            "43/43 [==============================] - 70s 2s/step - loss: 1.7713 - f1: 0.1798 - rec@prec: 0.0604 - val_loss: 1.8611 - val_f1: 0.1079 - val_rec@prec: 0.0613\n",
            "Epoch 5/15\n",
            "43/43 [==============================] - 70s 2s/step - loss: 1.8527 - f1: 0.1623 - rec@prec: 0.0730 - val_loss: 1.8344 - val_f1: 0.2731 - val_rec@prec: 0.0789\n",
            "Epoch 6/15\n",
            "43/43 [==============================] - 70s 2s/step - loss: 1.6049 - f1: 0.3395 - rec@prec: 0.1243 - val_loss: 1.6966 - val_f1: 0.3362 - val_rec@prec: 0.1127\n",
            "Epoch 7/15\n",
            "43/43 [==============================] - 70s 2s/step - loss: 1.4317 - f1: 0.4755 - rec@prec: 0.1705 - val_loss: 1.6332 - val_f1: 0.4357 - val_rec@prec: 0.1380\n",
            "Epoch 8/15\n",
            "43/43 [==============================] - 70s 2s/step - loss: 1.2900 - f1: 0.5633 - rec@prec: 0.2225 - val_loss: 1.5805 - val_f1: 0.4326 - val_rec@prec: 0.1402\n",
            "Epoch 9/15\n",
            "43/43 [==============================] - 70s 2s/step - loss: 1.1359 - f1: 0.6295 - rec@prec: 0.4298 - val_loss: 1.5479 - val_f1: 0.5038 - val_rec@prec: 0.2344\n",
            "Epoch 10/15\n",
            "43/43 [==============================] - 70s 2s/step - loss: 0.9891 - f1: 0.6861 - rec@prec: 0.5959 - val_loss: 1.4812 - val_f1: 0.5757 - val_rec@prec: 0.3634\n",
            "Epoch 11/15\n",
            "43/43 [==============================] - 70s 2s/step - loss: 0.8940 - f1: 0.7282 - rec@prec: 0.6758 - val_loss: 1.4917 - val_f1: 0.5879 - val_rec@prec: 0.4193\n",
            "Epoch 12/15\n",
            "43/43 [==============================] - 70s 2s/step - loss: 0.8220 - f1: 0.7578 - rec@prec: 0.7297 - val_loss: 1.4233 - val_f1: 0.5853 - val_rec@prec: 0.4509\n",
            "Epoch 13/15\n",
            "43/43 [==============================] - 70s 2s/step - loss: 0.6869 - f1: 0.8065 - rec@prec: 0.8151 - val_loss: 1.3870 - val_f1: 0.6035 - val_rec@prec: 0.4495\n",
            "Epoch 14/15\n",
            "43/43 [==============================] - 70s 2s/step - loss: 0.6089 - f1: 0.8337 - rec@prec: 0.8527 - val_loss: 1.4666 - val_f1: 0.6009 - val_rec@prec: 0.4468\n",
            "Epoch 15/15\n",
            "43/43 [==============================] - 70s 2s/step - loss: 0.5537 - f1: 0.8481 - rec@prec: 0.8739 - val_loss: 1.4600 - val_f1: 0.6243 - val_rec@prec: 0.5041\n"
          ]
        }
      ]
    },
    {
      "cell_type": "code",
      "source": [
        "models[4].fit(X_train, y_train, \n",
        "          validation_data=(X_valid, y_valid),\n",
        "          batch_size=512,\n",
        "          epochs=15)"
      ],
      "metadata": {
        "colab": {
          "base_uri": "https://localhost:8080/"
        },
        "id": "COvhqQWMPjfQ",
        "outputId": "22c008c4-2873-4052-dabd-7f068f0553ca"
      },
      "id": "COvhqQWMPjfQ",
      "execution_count": 25,
      "outputs": [
        {
          "output_type": "stream",
          "name": "stdout",
          "text": [
            "Epoch 1/15\n",
            "83/83 [==============================] - 153s 2s/step - loss: 2.3635 - f1: 0.0000e+00 - rec@prec: 0.0000e+00 - val_loss: 2.3238 - val_f1: 0.0000e+00 - val_rec@prec: 0.0000e+00\n",
            "Epoch 2/15\n",
            "83/83 [==============================] - 137s 2s/step - loss: 2.3258 - f1: 0.0000e+00 - rec@prec: 0.0000e+00 - val_loss: 2.3250 - val_f1: 0.0000e+00 - val_rec@prec: 0.0000e+00\n",
            "Epoch 3/15\n",
            "83/83 [==============================] - 137s 2s/step - loss: 2.3244 - f1: 0.0000e+00 - rec@prec: 0.0000e+00 - val_loss: 2.3224 - val_f1: 0.0000e+00 - val_rec@prec: 0.0000e+00\n",
            "Epoch 4/15\n",
            "83/83 [==============================] - 137s 2s/step - loss: 2.3236 - f1: 0.0000e+00 - rec@prec: 0.0000e+00 - val_loss: 2.3189 - val_f1: 0.0000e+00 - val_rec@prec: 0.0000e+00\n",
            "Epoch 5/15\n",
            "83/83 [==============================] - 137s 2s/step - loss: 2.3232 - f1: 0.0000e+00 - rec@prec: 0.0000e+00 - val_loss: 2.3209 - val_f1: 0.0000e+00 - val_rec@prec: 0.0000e+00\n",
            "Epoch 6/15\n",
            "83/83 [==============================] - 137s 2s/step - loss: 2.3244 - f1: 0.0000e+00 - rec@prec: 0.0000e+00 - val_loss: 2.3204 - val_f1: 0.0000e+00 - val_rec@prec: 0.0000e+00\n",
            "Epoch 7/15\n",
            "83/83 [==============================] - 137s 2s/step - loss: 2.3236 - f1: 0.0000e+00 - rec@prec: 0.0000e+00 - val_loss: 2.3235 - val_f1: 0.0000e+00 - val_rec@prec: 0.0000e+00\n",
            "Epoch 8/15\n",
            "83/83 [==============================] - 137s 2s/step - loss: 2.3235 - f1: 0.0000e+00 - rec@prec: 0.0000e+00 - val_loss: 2.3216 - val_f1: 0.0000e+00 - val_rec@prec: 0.0000e+00\n",
            "Epoch 9/15\n",
            "83/83 [==============================] - 137s 2s/step - loss: 2.3231 - f1: 0.0000e+00 - rec@prec: 0.0000e+00 - val_loss: 2.3213 - val_f1: 0.0000e+00 - val_rec@prec: 0.0000e+00\n",
            "Epoch 10/15\n",
            "83/83 [==============================] - 137s 2s/step - loss: 2.3237 - f1: 0.0000e+00 - rec@prec: 0.0000e+00 - val_loss: 2.3237 - val_f1: 0.0000e+00 - val_rec@prec: 0.0000e+00\n",
            "Epoch 11/15\n",
            "83/83 [==============================] - 137s 2s/step - loss: 2.3235 - f1: 0.0000e+00 - rec@prec: 0.0000e+00 - val_loss: 2.3212 - val_f1: 0.0000e+00 - val_rec@prec: 0.0000e+00\n",
            "Epoch 12/15\n",
            "83/83 [==============================] - 137s 2s/step - loss: 2.3231 - f1: 0.0000e+00 - rec@prec: 0.0000e+00 - val_loss: 2.3211 - val_f1: 0.0000e+00 - val_rec@prec: 0.0000e+00\n",
            "Epoch 13/15\n",
            "83/83 [==============================] - 137s 2s/step - loss: 2.3226 - f1: 0.0000e+00 - rec@prec: 0.0000e+00 - val_loss: 2.3233 - val_f1: 0.0000e+00 - val_rec@prec: 0.0000e+00\n",
            "Epoch 14/15\n",
            "83/83 [==============================] - 136s 2s/step - loss: 2.3219 - f1: 0.0000e+00 - rec@prec: 0.0000e+00 - val_loss: 2.3195 - val_f1: 0.0000e+00 - val_rec@prec: 0.0000e+00\n",
            "Epoch 15/15\n",
            "83/83 [==============================] - 136s 2s/step - loss: 2.3218 - f1: 0.0000e+00 - rec@prec: 0.0000e+00 - val_loss: 2.3191 - val_f1: 0.0000e+00 - val_rec@prec: 0.0000e+00\n"
          ]
        },
        {
          "output_type": "execute_result",
          "data": {
            "text/plain": [
              "<keras.callbacks.History at 0x7f340a9d0d10>"
            ]
          },
          "metadata": {},
          "execution_count": 25
        }
      ]
    },
    {
      "cell_type": "code",
      "source": [
        "models[5].fit(X_train, y_train, \n",
        "          validation_data=(X_valid, y_valid),\n",
        "          batch_size=1000,\n",
        "          epochs=15)"
      ],
      "metadata": {
        "id": "rQpdiH3Jgs0r",
        "colab": {
          "base_uri": "https://localhost:8080/"
        },
        "outputId": "2fe60c85-2ae1-4cbb-c79f-21b10a54f7d7"
      },
      "id": "rQpdiH3Jgs0r",
      "execution_count": 26,
      "outputs": [
        {
          "output_type": "stream",
          "name": "stdout",
          "text": [
            "Epoch 1/15\n",
            "43/43 [==============================] - 80s 2s/step - loss: 2.4303 - f1: 0.0037 - rec@prec: 0.0000e+00 - val_loss: 2.2831 - val_f1: 0.0000e+00 - val_rec@prec: 0.0000e+00\n",
            "Epoch 2/15\n",
            "43/43 [==============================] - 72s 2s/step - loss: 2.0450 - f1: 0.0342 - rec@prec: 0.0074 - val_loss: 1.8020 - val_f1: 0.1166 - val_rec@prec: 0.0667\n",
            "Epoch 3/15\n",
            "43/43 [==============================] - 72s 2s/step - loss: 1.6083 - f1: 0.2356 - rec@prec: 0.1218 - val_loss: 1.5606 - val_f1: 0.3544 - val_rec@prec: 0.1718\n",
            "Epoch 4/15\n",
            "43/43 [==============================] - 72s 2s/step - loss: 1.3443 - f1: 0.4144 - rec@prec: 0.2387 - val_loss: 1.4976 - val_f1: 0.4177 - val_rec@prec: 0.2024\n",
            "Epoch 5/15\n",
            "43/43 [==============================] - 72s 2s/step - loss: 1.1021 - f1: 0.5891 - rec@prec: 0.4228 - val_loss: 1.2554 - val_f1: 0.5959 - val_rec@prec: 0.4405\n",
            "Epoch 6/15\n",
            "43/43 [==============================] - 72s 2s/step - loss: 0.8524 - f1: 0.7237 - rec@prec: 0.6748 - val_loss: 1.1774 - val_f1: 0.6497 - val_rec@prec: 0.5397\n",
            "Epoch 7/15\n",
            "43/43 [==============================] - 72s 2s/step - loss: 0.7148 - f1: 0.7794 - rec@prec: 0.7735 - val_loss: 1.2160 - val_f1: 0.6366 - val_rec@prec: 0.5113\n",
            "Epoch 8/15\n",
            "43/43 [==============================] - 72s 2s/step - loss: 0.5985 - f1: 0.8191 - rec@prec: 0.8366 - val_loss: 1.2022 - val_f1: 0.6597 - val_rec@prec: 0.5419\n",
            "Epoch 9/15\n",
            "43/43 [==============================] - 72s 2s/step - loss: 0.5355 - f1: 0.8404 - rec@prec: 0.8692 - val_loss: 1.2977 - val_f1: 0.6399 - val_rec@prec: 0.4937\n",
            "Epoch 10/15\n",
            "43/43 [==============================] - 72s 2s/step - loss: 0.4483 - f1: 0.8698 - rec@prec: 0.9078 - val_loss: 1.3293 - val_f1: 0.6583 - val_rec@prec: 0.5325\n",
            "Epoch 11/15\n",
            "43/43 [==============================] - 72s 2s/step - loss: 0.3661 - f1: 0.8963 - rec@prec: 0.9383 - val_loss: 1.4151 - val_f1: 0.6503 - val_rec@prec: 0.5059\n",
            "Epoch 12/15\n",
            "43/43 [==============================] - 72s 2s/step - loss: 0.2959 - f1: 0.9203 - rec@prec: 0.9574 - val_loss: 1.5885 - val_f1: 0.6404 - val_rec@prec: 0.5149\n",
            "Epoch 13/15\n",
            "43/43 [==============================] - 72s 2s/step - loss: 0.2565 - f1: 0.9300 - rec@prec: 0.9672 - val_loss: 1.6232 - val_f1: 0.6360 - val_rec@prec: 0.5126\n",
            "Epoch 14/15\n",
            "43/43 [==============================] - 72s 2s/step - loss: 0.2174 - f1: 0.9435 - rec@prec: 0.9747 - val_loss: 1.6937 - val_f1: 0.6500 - val_rec@prec: 0.4932\n",
            "Epoch 15/15\n",
            "43/43 [==============================] - 72s 2s/step - loss: 0.1894 - f1: 0.9494 - rec@prec: 0.9814 - val_loss: 1.8094 - val_f1: 0.6441 - val_rec@prec: 0.5081\n"
          ]
        },
        {
          "output_type": "execute_result",
          "data": {
            "text/plain": [
              "<keras.callbacks.History at 0x7f3405e44fd0>"
            ]
          },
          "metadata": {},
          "execution_count": 26
        }
      ]
    },
    {
      "cell_type": "code",
      "source": [
        "models[6].fit(X_train, y_train, \n",
        "          validation_data=(X_valid, y_valid),\n",
        "          batch_size=512,\n",
        "          epochs=15)"
      ],
      "metadata": {
        "id": "dLQxwMUkFBoH",
        "colab": {
          "base_uri": "https://localhost:8080/"
        },
        "outputId": "c5d7cc92-0c86-4c12-eb12-3693ea7883dd"
      },
      "id": "dLQxwMUkFBoH",
      "execution_count": 27,
      "outputs": [
        {
          "output_type": "stream",
          "name": "stdout",
          "text": [
            "Epoch 1/15\n",
            "83/83 [==============================] - 170s 2s/step - loss: 2.3458 - f1: 0.0022 - rec@prec: 0.0000e+00 - val_loss: 2.0372 - val_f1: 0.0498 - val_rec@prec: 0.0311\n",
            "Epoch 2/15\n",
            "83/83 [==============================] - 155s 2s/step - loss: 1.8150 - f1: 0.1301 - rec@prec: 0.0746 - val_loss: 1.7553 - val_f1: 0.1431 - val_rec@prec: 0.0969\n",
            "Epoch 3/15\n",
            "83/83 [==============================] - 155s 2s/step - loss: 1.6122 - f1: 0.2828 - rec@prec: 0.1204 - val_loss: 1.7528 - val_f1: 0.2511 - val_rec@prec: 0.1118\n",
            "Epoch 4/15\n",
            "83/83 [==============================] - 155s 2s/step - loss: 1.4307 - f1: 0.4528 - rec@prec: 0.1842 - val_loss: 1.4634 - val_f1: 0.4984 - val_rec@prec: 0.1767\n",
            "Epoch 5/15\n",
            "83/83 [==============================] - 155s 2s/step - loss: 1.1739 - f1: 0.6019 - rec@prec: 0.4034 - val_loss: 1.3056 - val_f1: 0.5663 - val_rec@prec: 0.3981\n",
            "Epoch 6/15\n",
            "83/83 [==============================] - 155s 2s/step - loss: 0.9983 - f1: 0.6822 - rec@prec: 0.5914 - val_loss: 1.2115 - val_f1: 0.6244 - val_rec@prec: 0.4797\n",
            "Epoch 7/15\n",
            "83/83 [==============================] - 155s 2s/step - loss: 0.8427 - f1: 0.7461 - rec@prec: 0.7135 - val_loss: 1.2239 - val_f1: 0.6267 - val_rec@prec: 0.4775\n",
            "Epoch 8/15\n",
            "83/83 [==============================] - 155s 2s/step - loss: 0.7567 - f1: 0.7774 - rec@prec: 0.7662 - val_loss: 1.2472 - val_f1: 0.6450 - val_rec@prec: 0.5203\n",
            "Epoch 9/15\n",
            "83/83 [==============================] - 155s 2s/step - loss: 0.6464 - f1: 0.8133 - rec@prec: 0.8243 - val_loss: 1.2403 - val_f1: 0.6517 - val_rec@prec: 0.5234\n",
            "Epoch 10/15\n",
            "83/83 [==============================] - 154s 2s/step - loss: 0.5656 - f1: 0.8410 - rec@prec: 0.8636 - val_loss: 1.3202 - val_f1: 0.6467 - val_rec@prec: 0.5302\n",
            "Epoch 11/15\n",
            "83/83 [==============================] - 154s 2s/step - loss: 0.5085 - f1: 0.8581 - rec@prec: 0.8876 - val_loss: 1.3031 - val_f1: 0.6570 - val_rec@prec: 0.5496\n",
            "Epoch 12/15\n",
            "83/83 [==============================] - 155s 2s/step - loss: 0.4489 - f1: 0.8761 - rec@prec: 0.9100 - val_loss: 1.3307 - val_f1: 0.6633 - val_rec@prec: 0.5433\n",
            "Epoch 13/15\n",
            "83/83 [==============================] - 155s 2s/step - loss: 0.3938 - f1: 0.8931 - rec@prec: 0.9282 - val_loss: 1.3976 - val_f1: 0.6601 - val_rec@prec: 0.5302\n",
            "Epoch 14/15\n",
            "83/83 [==============================] - 155s 2s/step - loss: 0.3493 - f1: 0.9039 - rec@prec: 0.9432 - val_loss: 1.4757 - val_f1: 0.6524 - val_rec@prec: 0.5284\n",
            "Epoch 15/15\n",
            "83/83 [==============================] - 155s 2s/step - loss: 0.3367 - f1: 0.9069 - rec@prec: 0.9464 - val_loss: 1.4622 - val_f1: 0.6671 - val_rec@prec: 0.5379\n"
          ]
        },
        {
          "output_type": "execute_result",
          "data": {
            "text/plain": [
              "<keras.callbacks.History at 0x7f34052bec10>"
            ]
          },
          "metadata": {},
          "execution_count": 27
        }
      ]
    },
    {
      "cell_type": "code",
      "source": [
        "models[7].fit(X_train, y_train, \n",
        "          validation_data=(X_valid, y_valid),\n",
        "          batch_size=96,\n",
        "          epochs=20)"
      ],
      "metadata": {
        "id": "NMxOJ9U_KLCG",
        "colab": {
          "base_uri": "https://localhost:8080/",
          "height": 574
        },
        "outputId": "65a22869-3b04-409f-d3bf-06f269340f20"
      },
      "id": "NMxOJ9U_KLCG",
      "execution_count": 28,
      "outputs": [
        {
          "output_type": "stream",
          "name": "stdout",
          "text": [
            "Epoch 1/20\n",
            "439/439 [==============================] - 1822s 4s/step - loss: 2.3400 - f1: 5.4575e-04 - rec@prec: 0.0000e+00 - val_loss: 2.3290 - val_f1: 0.0000e+00 - val_rec@prec: 0.0000e+00\n",
            "Epoch 2/20\n",
            "439/439 [==============================] - 1729s 4s/step - loss: 2.3262 - f1: 0.0000e+00 - rec@prec: 0.0000e+00 - val_loss: 2.3202 - val_f1: 0.0000e+00 - val_rec@prec: 0.0000e+00\n",
            "Epoch 3/20\n",
            "439/439 [==============================] - 1723s 4s/step - loss: 2.3253 - f1: 0.0000e+00 - rec@prec: 0.0000e+00 - val_loss: 2.3215 - val_f1: 0.0000e+00 - val_rec@prec: 0.0000e+00\n",
            "Epoch 4/20\n",
            "439/439 [==============================] - 1726s 4s/step - loss: 2.3246 - f1: 0.0000e+00 - rec@prec: 0.0000e+00 - val_loss: 2.3213 - val_f1: 0.0000e+00 - val_rec@prec: 0.0000e+00\n",
            "Epoch 5/20\n",
            "439/439 [==============================] - 1728s 4s/step - loss: 2.3238 - f1: 0.0000e+00 - rec@prec: 0.0000e+00 - val_loss: 2.3189 - val_f1: 0.0000e+00 - val_rec@prec: 0.0000e+00\n",
            "Epoch 6/20\n",
            "123/439 [=======>......................] - ETA: 20:17 - loss: 2.3278 - f1: 0.0000e+00 - rec@prec: 0.0000e+00"
          ]
        },
        {
          "output_type": "error",
          "ename": "KeyboardInterrupt",
          "evalue": "ignored",
          "traceback": [
            "\u001b[0;31m---------------------------------------------------------------------------\u001b[0m",
            "\u001b[0;31mKeyboardInterrupt\u001b[0m                         Traceback (most recent call last)",
            "\u001b[0;32m<ipython-input-28-69b718702740>\u001b[0m in \u001b[0;36m<module>\u001b[0;34m()\u001b[0m\n\u001b[1;32m      2\u001b[0m           \u001b[0mvalidation_data\u001b[0m\u001b[0;34m=\u001b[0m\u001b[0;34m(\u001b[0m\u001b[0mX_valid\u001b[0m\u001b[0;34m,\u001b[0m \u001b[0my_valid\u001b[0m\u001b[0;34m)\u001b[0m\u001b[0;34m,\u001b[0m\u001b[0;34m\u001b[0m\u001b[0;34m\u001b[0m\u001b[0m\n\u001b[1;32m      3\u001b[0m           \u001b[0mbatch_size\u001b[0m\u001b[0;34m=\u001b[0m\u001b[0;36m96\u001b[0m\u001b[0;34m,\u001b[0m\u001b[0;34m\u001b[0m\u001b[0;34m\u001b[0m\u001b[0m\n\u001b[0;32m----> 4\u001b[0;31m           epochs=20)\n\u001b[0m",
            "\u001b[0;32m/usr/local/lib/python3.7/dist-packages/keras/utils/traceback_utils.py\u001b[0m in \u001b[0;36merror_handler\u001b[0;34m(*args, **kwargs)\u001b[0m\n\u001b[1;32m     62\u001b[0m     \u001b[0mfiltered_tb\u001b[0m \u001b[0;34m=\u001b[0m \u001b[0;32mNone\u001b[0m\u001b[0;34m\u001b[0m\u001b[0;34m\u001b[0m\u001b[0m\n\u001b[1;32m     63\u001b[0m     \u001b[0;32mtry\u001b[0m\u001b[0;34m:\u001b[0m\u001b[0;34m\u001b[0m\u001b[0;34m\u001b[0m\u001b[0m\n\u001b[0;32m---> 64\u001b[0;31m       \u001b[0;32mreturn\u001b[0m \u001b[0mfn\u001b[0m\u001b[0;34m(\u001b[0m\u001b[0;34m*\u001b[0m\u001b[0margs\u001b[0m\u001b[0;34m,\u001b[0m \u001b[0;34m**\u001b[0m\u001b[0mkwargs\u001b[0m\u001b[0;34m)\u001b[0m\u001b[0;34m\u001b[0m\u001b[0;34m\u001b[0m\u001b[0m\n\u001b[0m\u001b[1;32m     65\u001b[0m     \u001b[0;32mexcept\u001b[0m \u001b[0mException\u001b[0m \u001b[0;32mas\u001b[0m \u001b[0me\u001b[0m\u001b[0;34m:\u001b[0m  \u001b[0;31m# pylint: disable=broad-except\u001b[0m\u001b[0;34m\u001b[0m\u001b[0;34m\u001b[0m\u001b[0m\n\u001b[1;32m     66\u001b[0m       \u001b[0mfiltered_tb\u001b[0m \u001b[0;34m=\u001b[0m \u001b[0m_process_traceback_frames\u001b[0m\u001b[0;34m(\u001b[0m\u001b[0me\u001b[0m\u001b[0;34m.\u001b[0m\u001b[0m__traceback__\u001b[0m\u001b[0;34m)\u001b[0m\u001b[0;34m\u001b[0m\u001b[0;34m\u001b[0m\u001b[0m\n",
            "\u001b[0;32m/usr/local/lib/python3.7/dist-packages/keras/engine/training.py\u001b[0m in \u001b[0;36mfit\u001b[0;34m(self, x, y, batch_size, epochs, verbose, callbacks, validation_split, validation_data, shuffle, class_weight, sample_weight, initial_epoch, steps_per_epoch, validation_steps, validation_batch_size, validation_freq, max_queue_size, workers, use_multiprocessing)\u001b[0m\n\u001b[1;32m   1382\u001b[0m                 _r=1):\n\u001b[1;32m   1383\u001b[0m               \u001b[0mcallbacks\u001b[0m\u001b[0;34m.\u001b[0m\u001b[0mon_train_batch_begin\u001b[0m\u001b[0;34m(\u001b[0m\u001b[0mstep\u001b[0m\u001b[0;34m)\u001b[0m\u001b[0;34m\u001b[0m\u001b[0;34m\u001b[0m\u001b[0m\n\u001b[0;32m-> 1384\u001b[0;31m               \u001b[0mtmp_logs\u001b[0m \u001b[0;34m=\u001b[0m \u001b[0mself\u001b[0m\u001b[0;34m.\u001b[0m\u001b[0mtrain_function\u001b[0m\u001b[0;34m(\u001b[0m\u001b[0miterator\u001b[0m\u001b[0;34m)\u001b[0m\u001b[0;34m\u001b[0m\u001b[0;34m\u001b[0m\u001b[0m\n\u001b[0m\u001b[1;32m   1385\u001b[0m               \u001b[0;32mif\u001b[0m \u001b[0mdata_handler\u001b[0m\u001b[0;34m.\u001b[0m\u001b[0mshould_sync\u001b[0m\u001b[0;34m:\u001b[0m\u001b[0;34m\u001b[0m\u001b[0;34m\u001b[0m\u001b[0m\n\u001b[1;32m   1386\u001b[0m                 \u001b[0mcontext\u001b[0m\u001b[0;34m.\u001b[0m\u001b[0masync_wait\u001b[0m\u001b[0;34m(\u001b[0m\u001b[0;34m)\u001b[0m\u001b[0;34m\u001b[0m\u001b[0;34m\u001b[0m\u001b[0m\n",
            "\u001b[0;32m/usr/local/lib/python3.7/dist-packages/tensorflow/python/util/traceback_utils.py\u001b[0m in \u001b[0;36merror_handler\u001b[0;34m(*args, **kwargs)\u001b[0m\n\u001b[1;32m    148\u001b[0m     \u001b[0mfiltered_tb\u001b[0m \u001b[0;34m=\u001b[0m \u001b[0;32mNone\u001b[0m\u001b[0;34m\u001b[0m\u001b[0;34m\u001b[0m\u001b[0m\n\u001b[1;32m    149\u001b[0m     \u001b[0;32mtry\u001b[0m\u001b[0;34m:\u001b[0m\u001b[0;34m\u001b[0m\u001b[0;34m\u001b[0m\u001b[0m\n\u001b[0;32m--> 150\u001b[0;31m       \u001b[0;32mreturn\u001b[0m \u001b[0mfn\u001b[0m\u001b[0;34m(\u001b[0m\u001b[0;34m*\u001b[0m\u001b[0margs\u001b[0m\u001b[0;34m,\u001b[0m \u001b[0;34m**\u001b[0m\u001b[0mkwargs\u001b[0m\u001b[0;34m)\u001b[0m\u001b[0;34m\u001b[0m\u001b[0;34m\u001b[0m\u001b[0m\n\u001b[0m\u001b[1;32m    151\u001b[0m     \u001b[0;32mexcept\u001b[0m \u001b[0mException\u001b[0m \u001b[0;32mas\u001b[0m \u001b[0me\u001b[0m\u001b[0;34m:\u001b[0m\u001b[0;34m\u001b[0m\u001b[0;34m\u001b[0m\u001b[0m\n\u001b[1;32m    152\u001b[0m       \u001b[0mfiltered_tb\u001b[0m \u001b[0;34m=\u001b[0m \u001b[0m_process_traceback_frames\u001b[0m\u001b[0;34m(\u001b[0m\u001b[0me\u001b[0m\u001b[0;34m.\u001b[0m\u001b[0m__traceback__\u001b[0m\u001b[0;34m)\u001b[0m\u001b[0;34m\u001b[0m\u001b[0;34m\u001b[0m\u001b[0m\n",
            "\u001b[0;32m/usr/local/lib/python3.7/dist-packages/tensorflow/python/eager/def_function.py\u001b[0m in \u001b[0;36m__call__\u001b[0;34m(self, *args, **kwds)\u001b[0m\n\u001b[1;32m    913\u001b[0m \u001b[0;34m\u001b[0m\u001b[0m\n\u001b[1;32m    914\u001b[0m       \u001b[0;32mwith\u001b[0m \u001b[0mOptionalXlaContext\u001b[0m\u001b[0;34m(\u001b[0m\u001b[0mself\u001b[0m\u001b[0;34m.\u001b[0m\u001b[0m_jit_compile\u001b[0m\u001b[0;34m)\u001b[0m\u001b[0;34m:\u001b[0m\u001b[0;34m\u001b[0m\u001b[0;34m\u001b[0m\u001b[0m\n\u001b[0;32m--> 915\u001b[0;31m         \u001b[0mresult\u001b[0m \u001b[0;34m=\u001b[0m \u001b[0mself\u001b[0m\u001b[0;34m.\u001b[0m\u001b[0m_call\u001b[0m\u001b[0;34m(\u001b[0m\u001b[0;34m*\u001b[0m\u001b[0margs\u001b[0m\u001b[0;34m,\u001b[0m \u001b[0;34m**\u001b[0m\u001b[0mkwds\u001b[0m\u001b[0;34m)\u001b[0m\u001b[0;34m\u001b[0m\u001b[0;34m\u001b[0m\u001b[0m\n\u001b[0m\u001b[1;32m    916\u001b[0m \u001b[0;34m\u001b[0m\u001b[0m\n\u001b[1;32m    917\u001b[0m       \u001b[0mnew_tracing_count\u001b[0m \u001b[0;34m=\u001b[0m \u001b[0mself\u001b[0m\u001b[0;34m.\u001b[0m\u001b[0mexperimental_get_tracing_count\u001b[0m\u001b[0;34m(\u001b[0m\u001b[0;34m)\u001b[0m\u001b[0;34m\u001b[0m\u001b[0;34m\u001b[0m\u001b[0m\n",
            "\u001b[0;32m/usr/local/lib/python3.7/dist-packages/tensorflow/python/eager/def_function.py\u001b[0m in \u001b[0;36m_call\u001b[0;34m(self, *args, **kwds)\u001b[0m\n\u001b[1;32m    945\u001b[0m       \u001b[0;31m# In this case we have created variables on the first call, so we run the\u001b[0m\u001b[0;34m\u001b[0m\u001b[0;34m\u001b[0m\u001b[0;34m\u001b[0m\u001b[0m\n\u001b[1;32m    946\u001b[0m       \u001b[0;31m# defunned version which is guaranteed to never create variables.\u001b[0m\u001b[0;34m\u001b[0m\u001b[0;34m\u001b[0m\u001b[0;34m\u001b[0m\u001b[0m\n\u001b[0;32m--> 947\u001b[0;31m       \u001b[0;32mreturn\u001b[0m \u001b[0mself\u001b[0m\u001b[0;34m.\u001b[0m\u001b[0m_stateless_fn\u001b[0m\u001b[0;34m(\u001b[0m\u001b[0;34m*\u001b[0m\u001b[0margs\u001b[0m\u001b[0;34m,\u001b[0m \u001b[0;34m**\u001b[0m\u001b[0mkwds\u001b[0m\u001b[0;34m)\u001b[0m  \u001b[0;31m# pylint: disable=not-callable\u001b[0m\u001b[0;34m\u001b[0m\u001b[0;34m\u001b[0m\u001b[0m\n\u001b[0m\u001b[1;32m    948\u001b[0m     \u001b[0;32melif\u001b[0m \u001b[0mself\u001b[0m\u001b[0;34m.\u001b[0m\u001b[0m_stateful_fn\u001b[0m \u001b[0;32mis\u001b[0m \u001b[0;32mnot\u001b[0m \u001b[0;32mNone\u001b[0m\u001b[0;34m:\u001b[0m\u001b[0;34m\u001b[0m\u001b[0;34m\u001b[0m\u001b[0m\n\u001b[1;32m    949\u001b[0m       \u001b[0;31m# Release the lock early so that multiple threads can perform the call\u001b[0m\u001b[0;34m\u001b[0m\u001b[0;34m\u001b[0m\u001b[0;34m\u001b[0m\u001b[0m\n",
            "\u001b[0;32m/usr/local/lib/python3.7/dist-packages/tensorflow/python/eager/function.py\u001b[0m in \u001b[0;36m__call__\u001b[0;34m(self, *args, **kwargs)\u001b[0m\n\u001b[1;32m   2955\u001b[0m        filtered_flat_args) = self._maybe_define_function(args, kwargs)\n\u001b[1;32m   2956\u001b[0m     return graph_function._call_flat(\n\u001b[0;32m-> 2957\u001b[0;31m         filtered_flat_args, captured_inputs=graph_function.captured_inputs)  # pylint: disable=protected-access\n\u001b[0m\u001b[1;32m   2958\u001b[0m \u001b[0;34m\u001b[0m\u001b[0m\n\u001b[1;32m   2959\u001b[0m   \u001b[0;34m@\u001b[0m\u001b[0mproperty\u001b[0m\u001b[0;34m\u001b[0m\u001b[0;34m\u001b[0m\u001b[0m\n",
            "\u001b[0;32m/usr/local/lib/python3.7/dist-packages/tensorflow/python/eager/function.py\u001b[0m in \u001b[0;36m_call_flat\u001b[0;34m(self, args, captured_inputs, cancellation_manager)\u001b[0m\n\u001b[1;32m   1852\u001b[0m       \u001b[0;31m# No tape is watching; skip to running the function.\u001b[0m\u001b[0;34m\u001b[0m\u001b[0;34m\u001b[0m\u001b[0;34m\u001b[0m\u001b[0m\n\u001b[1;32m   1853\u001b[0m       return self._build_call_outputs(self._inference_function.call(\n\u001b[0;32m-> 1854\u001b[0;31m           ctx, args, cancellation_manager=cancellation_manager))\n\u001b[0m\u001b[1;32m   1855\u001b[0m     forward_backward = self._select_forward_and_backward_functions(\n\u001b[1;32m   1856\u001b[0m         \u001b[0margs\u001b[0m\u001b[0;34m,\u001b[0m\u001b[0;34m\u001b[0m\u001b[0;34m\u001b[0m\u001b[0m\n",
            "\u001b[0;32m/usr/local/lib/python3.7/dist-packages/tensorflow/python/eager/function.py\u001b[0m in \u001b[0;36mcall\u001b[0;34m(self, ctx, args, cancellation_manager)\u001b[0m\n\u001b[1;32m    502\u001b[0m               \u001b[0minputs\u001b[0m\u001b[0;34m=\u001b[0m\u001b[0margs\u001b[0m\u001b[0;34m,\u001b[0m\u001b[0;34m\u001b[0m\u001b[0;34m\u001b[0m\u001b[0m\n\u001b[1;32m    503\u001b[0m               \u001b[0mattrs\u001b[0m\u001b[0;34m=\u001b[0m\u001b[0mattrs\u001b[0m\u001b[0;34m,\u001b[0m\u001b[0;34m\u001b[0m\u001b[0;34m\u001b[0m\u001b[0m\n\u001b[0;32m--> 504\u001b[0;31m               ctx=ctx)\n\u001b[0m\u001b[1;32m    505\u001b[0m         \u001b[0;32melse\u001b[0m\u001b[0;34m:\u001b[0m\u001b[0;34m\u001b[0m\u001b[0;34m\u001b[0m\u001b[0m\n\u001b[1;32m    506\u001b[0m           outputs = execute.execute_with_cancellation(\n",
            "\u001b[0;32m/usr/local/lib/python3.7/dist-packages/tensorflow/python/eager/execute.py\u001b[0m in \u001b[0;36mquick_execute\u001b[0;34m(op_name, num_outputs, inputs, attrs, ctx, name)\u001b[0m\n\u001b[1;32m     53\u001b[0m     \u001b[0mctx\u001b[0m\u001b[0;34m.\u001b[0m\u001b[0mensure_initialized\u001b[0m\u001b[0;34m(\u001b[0m\u001b[0;34m)\u001b[0m\u001b[0;34m\u001b[0m\u001b[0;34m\u001b[0m\u001b[0m\n\u001b[1;32m     54\u001b[0m     tensors = pywrap_tfe.TFE_Py_Execute(ctx._handle, device_name, op_name,\n\u001b[0;32m---> 55\u001b[0;31m                                         inputs, attrs, num_outputs)\n\u001b[0m\u001b[1;32m     56\u001b[0m   \u001b[0;32mexcept\u001b[0m \u001b[0mcore\u001b[0m\u001b[0;34m.\u001b[0m\u001b[0m_NotOkStatusException\u001b[0m \u001b[0;32mas\u001b[0m \u001b[0me\u001b[0m\u001b[0;34m:\u001b[0m\u001b[0;34m\u001b[0m\u001b[0;34m\u001b[0m\u001b[0m\n\u001b[1;32m     57\u001b[0m     \u001b[0;32mif\u001b[0m \u001b[0mname\u001b[0m \u001b[0;32mis\u001b[0m \u001b[0;32mnot\u001b[0m \u001b[0;32mNone\u001b[0m\u001b[0;34m:\u001b[0m\u001b[0;34m\u001b[0m\u001b[0;34m\u001b[0m\u001b[0m\n",
            "\u001b[0;31mKeyboardInterrupt\u001b[0m: "
          ]
        }
      ]
    },
    {
      "cell_type": "code",
      "source": [
        "for i, model in enumerate(models):\n",
        "  print(f'Task {i+1}')\n",
        "  show_model(model)"
      ],
      "metadata": {
        "id": "dwTtFrajf2cs",
        "colab": {
          "base_uri": "https://localhost:8080/",
          "height": 1000
        },
        "outputId": "2dad305f-e6b8-4ef0-a874-32d691d9caa0"
      },
      "id": "dwTtFrajf2cs",
      "execution_count": 29,
      "outputs": [
        {
          "output_type": "stream",
          "name": "stdout",
          "text": [
            "Task 1\n",
            "dict_keys(['loss', 'f1', 'rec@prec', 'val_loss', 'val_f1', 'val_rec@prec'])\n"
          ]
        },
        {
          "output_type": "display_data",
          "data": {
            "image/png": "[encoded data removed]",
            "text/plain": [
              "<Figure size 432x288 with 1 Axes>"
            ]
          },
          "metadata": {
            "needs_background": "light"
          }
        },
        {
          "output_type": "stream",
          "name": "stdout",
          "text": [
            "Task 2\n",
            "dict_keys(['loss', 'f1', 'rec@prec', 'val_loss', 'val_f1', 'val_rec@prec'])\n"
          ]
        },
        {
          "output_type": "display_data",
          "data": {
            "image/png": "[encoded data removed]",
            "text/plain": [
              "<Figure size 432x288 with 1 Axes>"
            ]
          },
          "metadata": {
            "needs_background": "light"
          }
        },
        {
          "output_type": "stream",
          "name": "stdout",
          "text": [
            "Task 3\n",
            "dict_keys(['loss', 'f1', 'rec@prec', 'val_loss', 'val_f1', 'val_rec@prec'])\n"
          ]
        },
        {
          "output_type": "display_data",
          "data": {
            "image/png": "[encoded data removed]",
            "text/plain": [
              "<Figure size 432x288 with 1 Axes>"
            ]
          },
          "metadata": {
            "needs_background": "light"
          }
        },
        {
          "output_type": "stream",
          "name": "stdout",
          "text": [
            "Task 4\n",
            "dict_keys(['loss', 'f1', 'rec@prec', 'val_loss', 'val_f1', 'val_rec@prec'])\n"
          ]
        },
        {
          "output_type": "display_data",
          "data": {
            "image/png": "[encoded data removed]",
            "text/plain": [
              "<Figure size 432x288 with 1 Axes>"
            ]
          },
          "metadata": {
            "needs_background": "light"
          }
        },
        {
          "output_type": "stream",
          "name": "stdout",
          "text": [
            "Task 5\n",
            "dict_keys(['loss', 'f1', 'rec@prec', 'val_loss', 'val_f1', 'val_rec@prec'])\n"
          ]
        },
        {
          "output_type": "display_data",
          "data": {
            "image/png": "[encoded data removed]",
            "text/plain": [
              "<Figure size 432x288 with 1 Axes>"
            ]
          },
          "metadata": {
            "needs_background": "light"
          }
        },
        {
          "output_type": "stream",
          "name": "stdout",
          "text": [
            "Task 6\n",
            "dict_keys(['loss', 'f1', 'rec@prec', 'val_loss', 'val_f1', 'val_rec@prec'])\n"
          ]
        },
        {
          "output_type": "display_data",
          "data": {
            "image/png": "[encoded data removed]",
            "text/plain": [
              "<Figure size 432x288 with 1 Axes>"
            ]
          },
          "metadata": {
            "needs_background": "light"
          }
        },
        {
          "output_type": "stream",
          "name": "stdout",
          "text": [
            "Task 7\n",
            "dict_keys(['loss', 'f1', 'rec@prec', 'val_loss', 'val_f1', 'val_rec@prec'])\n"
          ]
        },
        {
          "output_type": "display_data",
          "data": {
            "image/png": "[encoded data removed]",
            "text/plain": [
              "<Figure size 432x288 with 1 Axes>"
            ]
          },
          "metadata": {
            "needs_background": "light"
          }
        },
        {
          "output_type": "stream",
          "name": "stdout",
          "text": [
            "Task 8\n",
            "dict_keys(['loss', 'f1', 'rec@prec', 'val_loss', 'val_f1', 'val_rec@prec'])\n"
          ]
        },
        {
          "output_type": "display_data",
          "data": {
            "image/png": "[encoded data removed]",
            "text/plain": [
              "<Figure size 432x288 with 1 Axes>"
            ]
          },
          "metadata": {
            "needs_background": "light"
          }
        }
      ]
    },
    {
      "cell_type": "markdown",
      "source": [
        "В целом модели показывают себя одинаково, потому выбирать лучшую из них стоит исходя из показателей скорости обучения. По этому параметру лучше всего показала себя модель, состоящая либо из LSTM, либо GRU слоя. Модели с большим количеством слоёв обучаются сильно долго и дают при этом почти такой же результат, как и простые модели.\n",
        "\n",
        "Стоит отметить, что модель из 5 задания иногда даёт результаты, а иногда нет, как это случилось в текущей сессии. Вдобавок модель из последнего задания обучалась слишком долго, потому было решено остановить обучение."
      ],
      "metadata": {
        "id": "2N3pyIyswaR1"
      },
      "id": "2N3pyIyswaR1"
    },
    {
      "cell_type": "markdown",
      "id": "ed5d6eea",
      "metadata": {
        "id": "ed5d6eea"
      },
      "source": [
        "## Задание 2 (6 баллов)\n"
      ]
    },
    {
      "cell_type": "markdown",
      "id": "5c2c07cf",
      "metadata": {
        "id": "5c2c07cf"
      },
      "source": [
        "На данных википедии (wikiann) обучите 2 модели:  \n",
        "1) модель в которой будут использованы предобученные эмбединги слов и несколько BILSTM слоев. \n",
        "\n",
        "2) модель в которой будут использованы предобученные эмбединги слов и несколько BIGRU слоев. \n",
        "\n",
        "Сравните качество по метрикам. Также придумайте несколько сложных примеров и проверьте, какие сущности определяет каждая из моделей."
      ]
    },
    {
      "cell_type": "code",
      "execution_count": null,
      "id": "fb704b1b",
      "metadata": {
        "id": "fb704b1b",
        "colab": {
          "base_uri": "https://localhost:8080/"
        },
        "outputId": "111d2d22-3aed-4980-d994-eaebcc8e5754"
      },
      "outputs": [
        {
          "output_type": "stream",
          "name": "stdout",
          "text": [
            "Requirement already satisfied: datasets in /usr/local/lib/python3.7/dist-packages (1.18.3)\n",
            "Requirement already satisfied: dill in /usr/local/lib/python3.7/dist-packages (from datasets) (0.3.4)\n",
            "Requirement already satisfied: packaging in /usr/local/lib/python3.7/dist-packages (from datasets) (21.3)\n",
            "Requirement already satisfied: requests>=2.19.0 in /usr/local/lib/python3.7/dist-packages (from datasets) (2.23.0)\n",
            "Requirement already satisfied: numpy>=1.17 in /usr/local/lib/python3.7/dist-packages (from datasets) (1.21.5)\n",
            "Requirement already satisfied: multiprocess in /usr/local/lib/python3.7/dist-packages (from datasets) (0.70.12.2)\n",
            "Requirement already satisfied: pyarrow!=4.0.0,>=3.0.0 in /usr/local/lib/python3.7/dist-packages (from datasets) (6.0.1)\n",
            "Requirement already satisfied: pandas in /usr/local/lib/python3.7/dist-packages (from datasets) (1.3.5)\n",
            "Requirement already satisfied: huggingface-hub<1.0.0,>=0.1.0 in /usr/local/lib/python3.7/dist-packages (from datasets) (0.4.0)\n",
            "Requirement already satisfied: aiohttp in /usr/local/lib/python3.7/dist-packages (from datasets) (3.8.1)\n",
            "Requirement already satisfied: fsspec[http]>=2021.05.0 in /usr/local/lib/python3.7/dist-packages (from datasets) (2022.2.0)\n",
            "Requirement already satisfied: xxhash in /usr/local/lib/python3.7/dist-packages (from datasets) (3.0.0)\n",
            "Requirement already satisfied: importlib-metadata in /usr/local/lib/python3.7/dist-packages (from datasets) (4.11.1)\n",
            "Requirement already satisfied: tqdm>=4.62.1 in /usr/local/lib/python3.7/dist-packages (from datasets) (4.62.3)\n",
            "Requirement already satisfied: filelock in /usr/local/lib/python3.7/dist-packages (from huggingface-hub<1.0.0,>=0.1.0->datasets) (3.6.0)\n",
            "Requirement already satisfied: typing-extensions>=3.7.4.3 in /usr/local/lib/python3.7/dist-packages (from huggingface-hub<1.0.0,>=0.1.0->datasets) (3.10.0.2)\n",
            "Requirement already satisfied: pyyaml in /usr/local/lib/python3.7/dist-packages (from huggingface-hub<1.0.0,>=0.1.0->datasets) (3.13)\n",
            "Requirement already satisfied: pyparsing!=3.0.5,>=2.0.2 in /usr/local/lib/python3.7/dist-packages (from packaging->datasets) (3.0.7)\n",
            "Requirement already satisfied: chardet<4,>=3.0.2 in /usr/local/lib/python3.7/dist-packages (from requests>=2.19.0->datasets) (3.0.4)\n",
            "Requirement already satisfied: certifi>=2017.4.17 in /usr/local/lib/python3.7/dist-packages (from requests>=2.19.0->datasets) (2021.10.8)\n",
            "Requirement already satisfied: idna<3,>=2.5 in /usr/local/lib/python3.7/dist-packages (from requests>=2.19.0->datasets) (2.10)\n",
            "Requirement already satisfied: urllib3!=1.25.0,!=1.25.1,<1.26,>=1.21.1 in /usr/local/lib/python3.7/dist-packages (from requests>=2.19.0->datasets) (1.24.3)\n",
            "Requirement already satisfied: frozenlist>=1.1.1 in /usr/local/lib/python3.7/dist-packages (from aiohttp->datasets) (1.3.0)\n",
            "Requirement already satisfied: aiosignal>=1.1.2 in /usr/local/lib/python3.7/dist-packages (from aiohttp->datasets) (1.2.0)\n",
            "Requirement already satisfied: attrs>=17.3.0 in /usr/local/lib/python3.7/dist-packages (from aiohttp->datasets) (21.4.0)\n",
            "Requirement already satisfied: async-timeout<5.0,>=4.0.0a3 in /usr/local/lib/python3.7/dist-packages (from aiohttp->datasets) (4.0.2)\n",
            "Requirement already satisfied: charset-normalizer<3.0,>=2.0 in /usr/local/lib/python3.7/dist-packages (from aiohttp->datasets) (2.0.12)\n",
            "Requirement already satisfied: multidict<7.0,>=4.5 in /usr/local/lib/python3.7/dist-packages (from aiohttp->datasets) (6.0.2)\n",
            "Requirement already satisfied: yarl<2.0,>=1.0 in /usr/local/lib/python3.7/dist-packages (from aiohttp->datasets) (1.7.2)\n",
            "Requirement already satisfied: asynctest==0.13.0 in /usr/local/lib/python3.7/dist-packages (from aiohttp->datasets) (0.13.0)\n",
            "Requirement already satisfied: zipp>=0.5 in /usr/local/lib/python3.7/dist-packages (from importlib-metadata->datasets) (3.7.0)\n",
            "Requirement already satisfied: python-dateutil>=2.7.3 in /usr/local/lib/python3.7/dist-packages (from pandas->datasets) (2.8.2)\n",
            "Requirement already satisfied: pytz>=2017.3 in /usr/local/lib/python3.7/dist-packages (from pandas->datasets) (2018.9)\n",
            "Requirement already satisfied: six>=1.5 in /usr/local/lib/python3.7/dist-packages (from python-dateutil>=2.7.3->pandas->datasets) (1.15.0)\n"
          ]
        }
      ],
      "source": [
        "!pip install datasets"
      ]
    },
    {
      "cell_type": "code",
      "execution_count": null,
      "id": "24b4e4aa",
      "metadata": {
        "id": "24b4e4aa"
      },
      "outputs": [],
      "source": [
        "from datasets import load_dataset"
      ]
    },
    {
      "cell_type": "code",
      "execution_count": null,
      "id": "8035db14",
      "metadata": {
        "id": "8035db14",
        "colab": {
          "base_uri": "https://localhost:8080/",
          "height": 66,
          "referenced_widgets": [
            "04592e31fc524dfcbd51f73d005e30eb",
            "a82250abb5264fafa5ef199c9e109126",
            "7a11c30baccd41de80d4924182cdb82f",
            "806d72f12d5341aabba98cbf643e2c9b",
            "95cf502165fa4ba8ba183d8a2a8d34e2",
            "70e5d73a8498416bac5fd1e18dfa6ef7",
            "9d3509f8165f489f86161d2e66487338",
            "539f23ec899241db9f4f639d70fa3867",
            "c234b99de3de4626a1c416bdff54d9e6",
            "7fe57f2ea9024295a8d9d80e1639eb55",
            "a923064c9a0c4d1d957096c2cbeb5602"
          ]
        },
        "outputId": "ee128729-d240-4b68-cbfc-0cc9d078185c"
      },
      "outputs": [
        {
          "output_type": "stream",
          "name": "stderr",
          "text": [
            "Reusing dataset wikiann (/root/.cache/huggingface/datasets/wikiann/ru/1.1.0/4bfd4fe4468ab78bb6e096968f61fab7a888f44f9d3371c2f3fea7e74a5a354e)\n"
          ]
        },
        {
          "output_type": "display_data",
          "data": {
            "application/vnd.jupyter.widget-view+json": {
              "model_id": "04592e31fc524dfcbd51f73d005e30eb",
              "version_minor": 0,
              "version_major": 2
            },
            "text/plain": [
              "  0%|          | 0/3 [00:00<?, ?it/s]"
            ]
          },
          "metadata": {}
        }
      ],
      "source": [
        "dataset = load_dataset(\"wikiann\", 'ru')"
      ]
    },
    {
      "cell_type": "code",
      "source": [
        "import gensim"
      ],
      "metadata": {
        "id": "tUoaf4Jkm8yW"
      },
      "id": "tUoaf4Jkm8yW",
      "execution_count": null,
      "outputs": []
    },
    {
      "cell_type": "code",
      "source": [
        "def calculate_weights(word2id, len_dim, embeddings):\n",
        "  weights = np.zeros((len(word2id), len_dim))\n",
        "\n",
        "  for word, i in word2id.items():\n",
        "      # вектор паддинга оставим нулевым\n",
        "      if word in ['PAD', 'UNK']:\n",
        "          continue\n",
        "\n",
        "      try:\n",
        "          weights[i] = embeddings[word]\n",
        "      \n",
        "      \n",
        "      except KeyError:\n",
        "          # для слов, которых нет в модели тоже возьмем какой-то  рандомный вектор\n",
        "          continue\n",
        "          weights[i] = embeddings['опрагпллирао']\n",
        "\n",
        "  return weights"
      ],
      "metadata": {
        "id": "6nLwfdNwg0c0"
      },
      "id": "6nLwfdNwg0c0",
      "execution_count": null,
      "outputs": []
    },
    {
      "cell_type": "code",
      "source": [
        "vocab = Counter()\n",
        "\n",
        "for sent in dataset['train']['tokens']:\n",
        "    vocab.update([x.lower() for x in sent])"
      ],
      "metadata": {
        "id": "9jgG-JkDine-"
      },
      "id": "9jgG-JkDine-",
      "execution_count": null,
      "outputs": []
    },
    {
      "cell_type": "code",
      "source": [
        "# индексируем слова\n",
        "word2id = {'PAD':0, 'UNK':1}\n",
        "\n",
        "for word in vocab:\n",
        "    word2id[word] = len(word2id)"
      ],
      "metadata": {
        "id": "tu-H_rQ3isZf"
      },
      "id": "tu-H_rQ3isZf",
      "execution_count": null,
      "outputs": []
    },
    {
      "cell_type": "code",
      "source": [
        "w2v = gensim.models.Word2Vec([[y.lower() for y in x] for x in dataset['train']['tokens']], \n",
        "                             vector_size=500, \n",
        "                             min_count=50, \n",
        "                             window=8,\n",
        "                             sg=1,\n",
        "                             workers=2,\n",
        "                             seed=2,\n",
        "                             epochs=7,\n",
        "                             )"
      ],
      "metadata": {
        "id": "yHXp3aE-nXI0"
      },
      "id": "yHXp3aE-nXI0",
      "execution_count": null,
      "outputs": []
    },
    {
      "cell_type": "code",
      "source": [
        "weights = calculate_weights(word2id, 500, w2v.wv)"
      ],
      "metadata": {
        "id": "DJ-ScnYihLjt"
      },
      "id": "DJ-ScnYihLjt",
      "execution_count": null,
      "outputs": []
    },
    {
      "cell_type": "code",
      "source": [
        "id2word = {i:word for word, i in word2id.items()}"
      ],
      "metadata": {
        "id": "qbdVflRziuqF"
      },
      "id": "qbdVflRziuqF",
      "execution_count": null,
      "outputs": []
    },
    {
      "cell_type": "code",
      "source": [
        "# переводим тексты в последовательности индексов\n",
        "X = []\n",
        "\n",
        "for sent in dataset['train']['tokens']:\n",
        "    tokens = [w.lower() for w in sent]\n",
        "    ids = [word2id.get(token, 1) for token in tokens]\n",
        "    X.append(ids)"
      ],
      "metadata": {
        "id": "wGRo-5r_iwFd"
      },
      "id": "wGRo-5r_iwFd",
      "execution_count": null,
      "outputs": []
    },
    {
      "cell_type": "code",
      "source": [
        "# переводим тексты в последовательности индексов\n",
        "X_test = []\n",
        "\n",
        "for sent in dataset['test']['tokens']:\n",
        "    tokens = [w.lower() for w in sent]\n",
        "    ids = [word2id.get(token, 1) for token in tokens]\n",
        "    X_test.append(ids)"
      ],
      "metadata": {
        "id": "jvMnbixjizIk"
      },
      "id": "jvMnbixjizIk",
      "execution_count": null,
      "outputs": []
    },
    {
      "cell_type": "code",
      "source": [
        "MAX_LEN = max(len(x) for x in X)\n",
        "\n",
        "# паддинг\n",
        "X = tf.keras.preprocessing.sequence.pad_sequences(X, maxlen=MAX_LEN, padding='post')\n",
        "X_test = tf.keras.preprocessing.sequence.pad_sequences(X_test, maxlen=MAX_LEN, padding='post')"
      ],
      "metadata": {
        "id": "CfFUBeI7i0gl"
      },
      "id": "CfFUBeI7i0gl",
      "execution_count": null,
      "outputs": []
    },
    {
      "cell_type": "code",
      "source": [
        "id2labels = {0:'O', 1:'B-PER', 2:'I-PER', 3:'B-ORG', 4:'I-ORG', 5: 'B-LOC', 6:'I-LOC', 7:'PAD'}\n",
        "label2id = {v:k for k,v in id2labels.items()} "
      ],
      "metadata": {
        "id": "CgkzIBZxi2MX"
      },
      "id": "CgkzIBZxi2MX",
      "execution_count": null,
      "outputs": []
    },
    {
      "cell_type": "code",
      "source": [
        "y = tf.keras.preprocessing.sequence.pad_sequences(dataset['train']['ner_tags'], value=7,\n",
        "                                                  maxlen=MAX_LEN,  padding='post')\n",
        "y_test = tf.keras.preprocessing.sequence.pad_sequences(dataset['test']['ner_tags'], value=7,\n",
        "                                                       maxlen=MAX_LEN,  padding='post')"
      ],
      "metadata": {
        "id": "U_ZJnFEhi31G"
      },
      "id": "U_ZJnFEhi31G",
      "execution_count": null,
      "outputs": []
    },
    {
      "cell_type": "code",
      "source": [
        "def fit_seq_model(model, len_dim, len_labels, weights):\n",
        "  inputs = tf.keras.layers.Input(shape=(MAX_LEN,))\n",
        "\n",
        "  embeddings = tf.keras.layers.Embedding(input_dim=len_dim, output_dim=500, \n",
        "                                        trainable=False,\n",
        "                                        weights=[weights]\n",
        "                                         )(inputs, )\n",
        "\n",
        "  layers = [embeddings]\n",
        "\n",
        "  for i in range(5):\n",
        "    lstm = tf.keras.layers.Bidirectional(model)(layers[i])\n",
        "    layers.append(lstm)\n",
        "\n",
        "  outputs = tf.keras.layers.Dense(len_labels, activation='softmax')(layers[-1])\n",
        "\n",
        "  model = tf.keras.Model(inputs=inputs, outputs=outputs)\n",
        "  model.compile(optimizer='adam',\n",
        "                loss='sparse_categorical_crossentropy', \n",
        "              metrics=['accuracy'])\n",
        "  \n",
        "  return model"
      ],
      "metadata": {
        "id": "X_ppOtLlpQ9N"
      },
      "id": "X_ppOtLlpQ9N",
      "execution_count": null,
      "outputs": []
    },
    {
      "cell_type": "code",
      "source": [
        "models = [fit_seq_model(tf.keras.layers.LSTM(256, return_sequences=True), len(word2id), len(label2id), weights), \n",
        "          fit_seq_model(tf.keras.layers.GRU(256, return_sequences=True), len(word2id), len(label2id), weights)\n",
        "]"
      ],
      "metadata": {
        "id": "BaGijOnMi5m1"
      },
      "id": "BaGijOnMi5m1",
      "execution_count": null,
      "outputs": []
    },
    {
      "cell_type": "code",
      "source": [
        "for model in models:\n",
        "  model.fit(X, y, \n",
        "            validation_data=(X_test, y_test),\n",
        "            batch_size=256,\n",
        "          epochs=5)"
      ],
      "metadata": {
        "colab": {
          "base_uri": "https://localhost:8080/"
        },
        "id": "isjAFkZSjipc",
        "outputId": "1f98696d-8756-4f21-e41e-fb628d031209"
      },
      "id": "isjAFkZSjipc",
      "execution_count": null,
      "outputs": [
        {
          "output_type": "stream",
          "name": "stdout",
          "text": [
            "Epoch 1/5\n",
            "79/79 [==============================] - 64s 594ms/step - loss: 0.2897 - accuracy: 0.9170 - val_loss: 0.1662 - val_accuracy: 0.9504\n",
            "Epoch 2/5\n",
            "79/79 [==============================] - 42s 539ms/step - loss: 0.1524 - accuracy: 0.9529 - val_loss: 0.1463 - val_accuracy: 0.9538\n",
            "Epoch 3/5\n",
            "79/79 [==============================] - 42s 538ms/step - loss: 0.1334 - accuracy: 0.9576 - val_loss: 0.1304 - val_accuracy: 0.9585\n",
            "Epoch 4/5\n",
            "79/79 [==============================] - 42s 537ms/step - loss: 0.1199 - accuracy: 0.9623 - val_loss: 0.1184 - val_accuracy: 0.9619\n",
            "Epoch 5/5\n",
            "79/79 [==============================] - 42s 537ms/step - loss: 0.1112 - accuracy: 0.9650 - val_loss: 0.1075 - val_accuracy: 0.9656\n",
            "Epoch 1/5\n",
            "79/79 [==============================] - 58s 508ms/step - loss: 0.2495 - accuracy: 0.9331 - val_loss: 0.1337 - val_accuracy: 0.9548\n",
            "Epoch 2/5\n",
            "79/79 [==============================] - 36s 459ms/step - loss: 0.1143 - accuracy: 0.9616 - val_loss: 0.1016 - val_accuracy: 0.9674\n",
            "Epoch 3/5\n",
            "79/79 [==============================] - 36s 459ms/step - loss: 0.0924 - accuracy: 0.9695 - val_loss: 0.0879 - val_accuracy: 0.9709\n",
            "Epoch 4/5\n",
            "79/79 [==============================] - 36s 459ms/step - loss: 0.0853 - accuracy: 0.9715 - val_loss: 0.0879 - val_accuracy: 0.9704\n",
            "Epoch 5/5\n",
            "79/79 [==============================] - 36s 458ms/step - loss: 0.0808 - accuracy: 0.9728 - val_loss: 0.0801 - val_accuracy: 0.9731\n"
          ]
        }
      ]
    },
    {
      "cell_type": "code",
      "source": [
        "def seq_show_model(model):\n",
        "  print(model.history.history.keys())\n",
        "  plt.plot(model.history.history['accuracy'])\n",
        "  plt.plot(model.history.history['val_accuracy'])\n",
        "  plt.title('model acc')\n",
        "  plt.ylabel('accuracy')\n",
        "  plt.xlabel('epoch')\n",
        "  plt.legend(['train', 'val'], loc='upper left')\n",
        "  plt.show()"
      ],
      "metadata": {
        "id": "kQiACE_emOUl"
      },
      "id": "kQiACE_emOUl",
      "execution_count": null,
      "outputs": []
    },
    {
      "cell_type": "code",
      "source": [
        "n_models = ['LSTM', 'GRU']\n",
        "\n",
        "for i, model in enumerate(models):\n",
        "  print(f'Task {n_models[i]}')\n",
        "  seq_show_model(model)"
      ],
      "metadata": {
        "colab": {
          "base_uri": "https://localhost:8080/",
          "height": 642
        },
        "id": "c5-kKhghqY2Z",
        "outputId": "37e57693-e899-40a5-95e0-e7ba0b013e5f"
      },
      "id": "c5-kKhghqY2Z",
      "execution_count": null,
      "outputs": [
        {
          "output_type": "stream",
          "name": "stdout",
          "text": [
            "Task LSTM\n",
            "dict_keys(['loss', 'accuracy', 'val_loss', 'val_accuracy'])\n"
          ]
        },
        {
          "output_type": "display_data",
          "data": {
            "image/png": "[encoded data removed]",
            "text/plain": [
              "<Figure size 432x288 with 1 Axes>"
            ]
          },
          "metadata": {
            "needs_background": "light"
          }
        },
        {
          "output_type": "stream",
          "name": "stdout",
          "text": [
            "Task GRU\n",
            "dict_keys(['loss', 'accuracy', 'val_loss', 'val_accuracy'])\n"
          ]
        },
        {
          "output_type": "display_data",
          "data": {
            "image/png": "[encoded data removed]",
            "text/plain": [
              "<Figure size 432x288 with 1 Axes>"
            ]
          },
          "metadata": {
            "needs_background": "light"
          }
        }
      ]
    },
    {
      "cell_type": "code",
      "source": [
        "import re\n",
        "\n",
        "def tokenize(text, word2id):\n",
        "    # токенизирует и переводит в индексы\n",
        "    tokens = re.findall('\\w+|[^\\w\\s]+', text)\n",
        "    ids = [word2id.get(token.lower(), 1) for token in tokens]\n",
        "    return tokens, ids\n",
        "\n",
        "def pred2tags(pred, id2label, length):\n",
        "    # декодирует индексы в части речи\n",
        "    # length нужно чтобы откидывать паддинги или некорректные предсказания\n",
        "    pred = pred.argmax(2)[0, :length]\n",
        "    labels = [id2label[l] for l in pred]\n",
        "    return labels\n",
        "\n",
        "def label_seq(text, word2id, id2label, max_len, model):\n",
        "    tokens, ids = tokenize(text, word2id)\n",
        "    pred = model.predict(tf.keras.preprocessing.sequence.pad_sequences([ids], \n",
        "                                                                       maxlen=max_len, \n",
        "                                                                       padding='post'))\n",
        "    labels = pred2tags(pred, id2label, len(ids))\n",
        "    \n",
        "    return list(zip(tokens, labels))"
      ],
      "metadata": {
        "id": "RS8KbjRoq995"
      },
      "id": "RS8KbjRoq995",
      "execution_count": null,
      "outputs": []
    },
    {
      "cell_type": "code",
      "source": [
        "from pprint import pprint\n",
        "\n",
        "def compare_models(sentence, models, word2id, id2labels):\n",
        "  for i, model in enumerate(models):\n",
        "    print(f'Model {n_models[i]}')\n",
        "    pprint(label_seq(sentence, word2id, id2labels, MAX_LEN, model))"
      ],
      "metadata": {
        "id": "sv94vpS1BCGy"
      },
      "id": "sv94vpS1BCGy",
      "execution_count": null,
      "outputs": []
    },
    {
      "cell_type": "code",
      "source": [
        "compare_models('Пётр Петрович Петров сказал Василию Ивановичу об отъезде в Карловы Вары.', models, word2id, id2labels)"
      ],
      "metadata": {
        "colab": {
          "base_uri": "https://localhost:8080/"
        },
        "id": "qCbqzjw6BzLZ",
        "outputId": "2bf1c13d-b2b5-42b5-8fef-ce5c52df5ab2"
      },
      "id": "qCbqzjw6BzLZ",
      "execution_count": null,
      "outputs": [
        {
          "output_type": "stream",
          "name": "stdout",
          "text": [
            "Model LSTM\n",
            "[('Пётр', 'O'),\n",
            " ('Петрович', 'O'),\n",
            " ('Петров', 'O'),\n",
            " ('сказал', 'O'),\n",
            " ('Василию', 'O'),\n",
            " ('Ивановичу', 'O'),\n",
            " ('об', 'O'),\n",
            " ('отъезде', 'O'),\n",
            " ('в', 'O'),\n",
            " ('Карловы', 'O'),\n",
            " ('Вары', 'I-ORG'),\n",
            " ('.', 'O')]\n",
            "Model GRU\n",
            "WARNING:tensorflow:5 out of the last 38 calls to <function Model.make_predict_function.<locals>.predict_function at 0x7ff36b324560> triggered tf.function retracing. Tracing is expensive and the excessive number of tracings could be due to (1) creating @tf.function repeatedly in a loop, (2) passing tensors with different shapes, (3) passing Python objects instead of tensors. For (1), please define your @tf.function outside of the loop. For (2), @tf.function has experimental_relax_shapes=True option that relaxes argument shapes that can avoid unnecessary retracing. For (3), please refer to https://www.tensorflow.org/guide/function#controlling_retracing and https://www.tensorflow.org/api_docs/python/tf/function for  more details.\n",
            "[('Пётр', 'O'),\n",
            " ('Петрович', 'O'),\n",
            " ('Петров', 'O'),\n",
            " ('сказал', 'O'),\n",
            " ('Василию', 'O'),\n",
            " ('Ивановичу', 'O'),\n",
            " ('об', 'O'),\n",
            " ('отъезде', 'O'),\n",
            " ('в', 'O'),\n",
            " ('Карловы', 'B-ORG'),\n",
            " ('Вары', 'I-ORG'),\n",
            " ('.', 'O')]\n"
          ]
        }
      ]
    },
    {
      "cell_type": "code",
      "source": [
        "compare_models('Москвой Иван был потрясён.', models, word2id, id2labels)"
      ],
      "metadata": {
        "colab": {
          "base_uri": "https://localhost:8080/"
        },
        "id": "qjBa05jMBWbZ",
        "outputId": "756d35dd-5fc3-4abe-dee9-abc5ad28d963"
      },
      "id": "qjBa05jMBWbZ",
      "execution_count": null,
      "outputs": [
        {
          "output_type": "stream",
          "name": "stdout",
          "text": [
            "Model LSTM\n",
            "[('Москвой', 'O'),\n",
            " ('Иван', 'O'),\n",
            " ('был', 'O'),\n",
            " ('потрясён', 'B-LOC'),\n",
            " ('.', 'O')]\n",
            "Model GRU\n",
            "[('Москвой', 'O'),\n",
            " ('Иван', 'O'),\n",
            " ('был', 'O'),\n",
            " ('потрясён', 'B-LOC'),\n",
            " ('.', 'O')]\n"
          ]
        }
      ]
    },
    {
      "cell_type": "code",
      "source": [
        "compare_models('Иван был потрясён Москвой.', models, word2id, id2labels)"
      ],
      "metadata": {
        "colab": {
          "base_uri": "https://localhost:8080/"
        },
        "id": "ze3jP67vCBYY",
        "outputId": "c2d46882-e07c-4aed-81a4-8eaab7a93ce4"
      },
      "id": "ze3jP67vCBYY",
      "execution_count": null,
      "outputs": [
        {
          "output_type": "stream",
          "name": "stdout",
          "text": [
            "Model LSTM\n",
            "[('Иван', 'O'),\n",
            " ('был', 'O'),\n",
            " ('потрясён', 'O'),\n",
            " ('Москвой', 'B-LOC'),\n",
            " ('.', 'O')]\n",
            "Model GRU\n",
            "[('Иван', 'O'),\n",
            " ('был', 'O'),\n",
            " ('потрясён', 'B-ORG'),\n",
            " ('Москвой', 'I-ORG'),\n",
            " ('.', 'O')]\n"
          ]
        }
      ]
    },
    {
      "cell_type": "code",
      "source": [
        "compare_models('Ты к нам в Москву приезжай и пройдись по Арбату, окунись на Тверском в шум зеленых аллей, хотя бы раз посмотри, как танцуют девчата на ладонях больших голубых площадей!.', models, word2id, id2labels)"
      ],
      "metadata": {
        "colab": {
          "base_uri": "https://localhost:8080/"
        },
        "id": "aZ9I2SJICs5e",
        "outputId": "9252aca4-cc3d-4e44-b7dc-e55e9ed72cb1"
      },
      "id": "aZ9I2SJICs5e",
      "execution_count": null,
      "outputs": [
        {
          "output_type": "stream",
          "name": "stdout",
          "text": [
            "Model LSTM\n",
            "[('Ты', 'O'),\n",
            " ('к', 'O'),\n",
            " ('нам', 'O'),\n",
            " ('в', 'O'),\n",
            " ('Москву', 'O'),\n",
            " ('приезжай', 'O'),\n",
            " ('и', 'O'),\n",
            " ('пройдись', 'O'),\n",
            " ('по', 'O'),\n",
            " ('Арбату', 'O'),\n",
            " (',', 'O'),\n",
            " ('окунись', 'O'),\n",
            " ('на', 'O'),\n",
            " ('Тверском', 'O'),\n",
            " ('в', 'O'),\n",
            " ('шум', 'O'),\n",
            " ('зеленых', 'O'),\n",
            " ('аллей', 'O'),\n",
            " (',', 'O'),\n",
            " ('хотя', 'O'),\n",
            " ('бы', 'O'),\n",
            " ('раз', 'O'),\n",
            " ('посмотри', 'O'),\n",
            " (',', 'O'),\n",
            " ('как', 'O'),\n",
            " ('танцуют', 'O'),\n",
            " ('девчата', 'O'),\n",
            " ('на', 'O'),\n",
            " ('ладонях', 'O'),\n",
            " ('больших', 'PAD'),\n",
            " ('голубых', 'PAD'),\n",
            " ('площадей', 'PAD'),\n",
            " ('!.', 'PAD')]\n",
            "Model GRU\n",
            "[('Ты', 'O'),\n",
            " ('к', 'O'),\n",
            " ('нам', 'O'),\n",
            " ('в', 'O'),\n",
            " ('Москву', 'O'),\n",
            " ('приезжай', 'O'),\n",
            " ('и', 'O'),\n",
            " ('пройдись', 'O'),\n",
            " ('по', 'O'),\n",
            " ('Арбату', 'I-ORG'),\n",
            " (',', 'O'),\n",
            " ('окунись', 'O'),\n",
            " ('на', 'O'),\n",
            " ('Тверском', 'O'),\n",
            " ('в', 'O'),\n",
            " ('шум', 'O'),\n",
            " ('зеленых', 'O'),\n",
            " ('аллей', 'I-ORG'),\n",
            " (',', 'O'),\n",
            " ('хотя', 'O'),\n",
            " ('бы', 'O'),\n",
            " ('раз', 'O'),\n",
            " ('посмотри', 'I-ORG'),\n",
            " (',', 'O'),\n",
            " ('как', 'O'),\n",
            " ('танцуют', 'O'),\n",
            " ('девчата', 'O'),\n",
            " ('на', 'O'),\n",
            " ('ладонях', 'O'),\n",
            " ('больших', 'PAD'),\n",
            " ('голубых', 'PAD'),\n",
            " ('площадей', 'PAD'),\n",
            " ('!.', 'PAD')]\n"
          ]
        }
      ]
    },
    {
      "cell_type": "markdown",
      "source": [
        "Видно, что на примерах модели работают очень плохо, но при этом результаты у GRU-модели лучше, чем у LSTM. Ещё стоит отметить, что качество определения сущностей зависит от расположения слов в предложении."
      ],
      "metadata": {
        "id": "LQ3OQhI3IEYt"
      },
      "id": "LQ3OQhI3IEYt"
    }
  ],
  "metadata": {
    "kernelspec": {
      "display_name": "Python 3 (ipykernel)",
      "language": "python",
      "name": "python3"
    },
    "language_info": {
      "codemirror_mode": {
        "name": "ipython",
        "version": 3
      },
      "file_extension": ".py",
      "mimetype": "text/x-python",
      "name": "python",
      "nbconvert_exporter": "python",
      "pygments_lexer": "ipython3",
      "version": "3.8.10"
    },
    "colab": {
      "name": "CompLing_HW8.ipynb",
      "provenance": [],
      "collapsed_sections": []
    },
    "accelerator": "GPU",
    "widgets": {
      "application/vnd.jupyter.widget-state+json": {
        "04592e31fc524dfcbd51f73d005e30eb": {
          "model_module": "@jupyter-widgets/controls",
          "model_name": "HBoxModel",
          "model_module_version": "1.5.0",
          "state": {
            "_view_name": "HBoxView",
            "_dom_classes": [],
            "_model_name": "HBoxModel",
            "_view_module": "@jupyter-widgets/controls",
            "_model_module_version": "1.5.0",
            "_view_count": null,
            "_view_module_version": "1.5.0",
            "box_style": "",
            "layout": "IPY_MODEL_a82250abb5264fafa5ef199c9e109126",
            "_model_module": "@jupyter-widgets/controls",
            "children": [
              "IPY_MODEL_7a11c30baccd41de80d4924182cdb82f",
              "IPY_MODEL_806d72f12d5341aabba98cbf643e2c9b",
              "IPY_MODEL_95cf502165fa4ba8ba183d8a2a8d34e2"
            ]
          }
        },
        "a82250abb5264fafa5ef199c9e109126": {
          "model_module": "@jupyter-widgets/base",
          "model_name": "LayoutModel",
          "model_module_version": "1.2.0",
          "state": {
            "_view_name": "LayoutView",
            "grid_template_rows": null,
            "right": null,
            "justify_content": null,
            "_view_module": "@jupyter-widgets/base",
            "overflow": null,
            "_model_module_version": "1.2.0",
            "_view_count": null,
            "flex_flow": null,
            "width": null,
            "min_width": null,
            "border": null,
            "align_items": null,
            "bottom": null,
            "_model_module": "@jupyter-widgets/base",
            "top": null,
            "grid_column": null,
            "overflow_y": null,
            "overflow_x": null,
            "grid_auto_flow": null,
            "grid_area": null,
            "grid_template_columns": null,
            "flex": null,
            "_model_name": "LayoutModel",
            "justify_items": null,
            "grid_row": null,
            "max_height": null,
            "align_content": null,
            "visibility": null,
            "align_self": null,
            "height": null,
            "min_height": null,
            "padding": null,
            "grid_auto_rows": null,
            "grid_gap": null,
            "max_width": null,
            "order": null,
            "_view_module_version": "1.2.0",
            "grid_template_areas": null,
            "object_position": null,
            "object_fit": null,
            "grid_auto_columns": null,
            "margin": null,
            "display": null,
            "left": null
          }
        },
        "7a11c30baccd41de80d4924182cdb82f": {
          "model_module": "@jupyter-widgets/controls",
          "model_name": "HTMLModel",
          "model_module_version": "1.5.0",
          "state": {
            "_view_name": "HTMLView",
            "style": "IPY_MODEL_70e5d73a8498416bac5fd1e18dfa6ef7",
            "_dom_classes": [],
            "description": "",
            "_model_name": "HTMLModel",
            "placeholder": "​",
            "_view_module": "@jupyter-widgets/controls",
            "_model_module_version": "1.5.0",
            "value": "100%",
            "_view_count": null,
            "_view_module_version": "1.5.0",
            "description_tooltip": null,
            "_model_module": "@jupyter-widgets/controls",
            "layout": "IPY_MODEL_9d3509f8165f489f86161d2e66487338"
          }
        },
        "806d72f12d5341aabba98cbf643e2c9b": {
          "model_module": "@jupyter-widgets/controls",
          "model_name": "FloatProgressModel",
          "model_module_version": "1.5.0",
          "state": {
            "_view_name": "ProgressView",
            "style": "IPY_MODEL_539f23ec899241db9f4f639d70fa3867",
            "_dom_classes": [],
            "description": "",
            "_model_name": "FloatProgressModel",
            "bar_style": "success",
            "max": 3,
            "_view_module": "@jupyter-widgets/controls",
            "_model_module_version": "1.5.0",
            "value": 3,
            "_view_count": null,
            "_view_module_version": "1.5.0",
            "orientation": "horizontal",
            "min": 0,
            "description_tooltip": null,
            "_model_module": "@jupyter-widgets/controls",
            "layout": "IPY_MODEL_c234b99de3de4626a1c416bdff54d9e6"
          }
        },
        "95cf502165fa4ba8ba183d8a2a8d34e2": {
          "model_module": "@jupyter-widgets/controls",
          "model_name": "HTMLModel",
          "model_module_version": "1.5.0",
          "state": {
            "_view_name": "HTMLView",
            "style": "IPY_MODEL_7fe57f2ea9024295a8d9d80e1639eb55",
            "_dom_classes": [],
            "description": "",
            "_model_name": "HTMLModel",
            "placeholder": "​",
            "_view_module": "@jupyter-widgets/controls",
            "_model_module_version": "1.5.0",
            "value": " 3/3 [00:00&lt;00:00,  9.07it/s]",
            "_view_count": null,
            "_view_module_version": "1.5.0",
            "description_tooltip": null,
            "_model_module": "@jupyter-widgets/controls",
            "layout": "IPY_MODEL_a923064c9a0c4d1d957096c2cbeb5602"
          }
        },
        "70e5d73a8498416bac5fd1e18dfa6ef7": {
          "model_module": "@jupyter-widgets/controls",
          "model_name": "DescriptionStyleModel",
          "model_module_version": "1.5.0",
          "state": {
            "_view_name": "StyleView",
            "_model_name": "DescriptionStyleModel",
            "description_width": "",
            "_view_module": "@jupyter-widgets/base",
            "_model_module_version": "1.5.0",
            "_view_count": null,
            "_view_module_version": "1.2.0",
            "_model_module": "@jupyter-widgets/controls"
          }
        },
        "9d3509f8165f489f86161d2e66487338": {
          "model_module": "@jupyter-widgets/base",
          "model_name": "LayoutModel",
          "model_module_version": "1.2.0",
          "state": {
            "_view_name": "LayoutView",
            "grid_template_rows": null,
            "right": null,
            "justify_content": null,
            "_view_module": "@jupyter-widgets/base",
            "overflow": null,
            "_model_module_version": "1.2.0",
            "_view_count": null,
            "flex_flow": null,
            "width": null,
            "min_width": null,
            "border": null,
            "align_items": null,
            "bottom": null,
            "_model_module": "@jupyter-widgets/base",
            "top": null,
            "grid_column": null,
            "overflow_y": null,
            "overflow_x": null,
            "grid_auto_flow": null,
            "grid_area": null,
            "grid_template_columns": null,
            "flex": null,
            "_model_name": "LayoutModel",
            "justify_items": null,
            "grid_row": null,
            "max_height": null,
            "align_content": null,
            "visibility": null,
            "align_self": null,
            "height": null,
            "min_height": null,
            "padding": null,
            "grid_auto_rows": null,
            "grid_gap": null,
            "max_width": null,
            "order": null,
            "_view_module_version": "1.2.0",
            "grid_template_areas": null,
            "object_position": null,
            "object_fit": null,
            "grid_auto_columns": null,
            "margin": null,
            "display": null,
            "left": null
          }
        },
        "539f23ec899241db9f4f639d70fa3867": {
          "model_module": "@jupyter-widgets/controls",
          "model_name": "ProgressStyleModel",
          "model_module_version": "1.5.0",
          "state": {
            "_view_name": "StyleView",
            "_model_name": "ProgressStyleModel",
            "description_width": "",
            "_view_module": "@jupyter-widgets/base",
            "_model_module_version": "1.5.0",
            "_view_count": null,
            "_view_module_version": "1.2.0",
            "bar_color": null,
            "_model_module": "@jupyter-widgets/controls"
          }
        },
        "c234b99de3de4626a1c416bdff54d9e6": {
          "model_module": "@jupyter-widgets/base",
          "model_name": "LayoutModel",
          "model_module_version": "1.2.0",
          "state": {
            "_view_name": "LayoutView",
            "grid_template_rows": null,
            "right": null,
            "justify_content": null,
            "_view_module": "@jupyter-widgets/base",
            "overflow": null,
            "_model_module_version": "1.2.0",
            "_view_count": null,
            "flex_flow": null,
            "width": null,
            "min_width": null,
            "border": null,
            "align_items": null,
            "bottom": null,
            "_model_module": "@jupyter-widgets/base",
            "top": null,
            "grid_column": null,
            "overflow_y": null,
            "overflow_x": null,
            "grid_auto_flow": null,
            "grid_area": null,
            "grid_template_columns": null,
            "flex": null,
            "_model_name": "LayoutModel",
            "justify_items": null,
            "grid_row": null,
            "max_height": null,
            "align_content": null,
            "visibility": null,
            "align_self": null,
            "height": null,
            "min_height": null,
            "padding": null,
            "grid_auto_rows": null,
            "grid_gap": null,
            "max_width": null,
            "order": null,
            "_view_module_version": "1.2.0",
            "grid_template_areas": null,
            "object_position": null,
            "object_fit": null,
            "grid_auto_columns": null,
            "margin": null,
            "display": null,
            "left": null
          }
        },
        "7fe57f2ea9024295a8d9d80e1639eb55": {
          "model_module": "@jupyter-widgets/controls",
          "model_name": "DescriptionStyleModel",
          "model_module_version": "1.5.0",
          "state": {
            "_view_name": "StyleView",
            "_model_name": "DescriptionStyleModel",
            "description_width": "",
            "_view_module": "@jupyter-widgets/base",
            "_model_module_version": "1.5.0",
            "_view_count": null,
            "_view_module_version": "1.2.0",
            "_model_module": "@jupyter-widgets/controls"
          }
        },
        "a923064c9a0c4d1d957096c2cbeb5602": {
          "model_module": "@jupyter-widgets/base",
          "model_name": "LayoutModel",
          "model_module_version": "1.2.0",
          "state": {
            "_view_name": "LayoutView",
            "grid_template_rows": null,
            "right": null,
            "justify_content": null,
            "_view_module": "@jupyter-widgets/base",
            "overflow": null,
            "_model_module_version": "1.2.0",
            "_view_count": null,
            "flex_flow": null,
            "width": null,
            "min_width": null,
            "border": null,
            "align_items": null,
            "bottom": null,
            "_model_module": "@jupyter-widgets/base",
            "top": null,
            "grid_column": null,
            "overflow_y": null,
            "overflow_x": null,
            "grid_auto_flow": null,
            "grid_area": null,
            "grid_template_columns": null,
            "flex": null,
            "_model_name": "LayoutModel",
            "justify_items": null,
            "grid_row": null,
            "max_height": null,
            "align_content": null,
            "visibility": null,
            "align_self": null,
            "height": null,
            "min_height": null,
            "padding": null,
            "grid_auto_rows": null,
            "grid_gap": null,
            "max_width": null,
            "order": null,
            "_view_module_version": "1.2.0",
            "grid_template_areas": null,
            "object_position": null,
            "object_fit": null,
            "grid_auto_columns": null,
            "margin": null,
            "display": null,
            "left": null
          }
        }
      }
    }
  },
  "nbformat": 4,
  "nbformat_minor": 5
}